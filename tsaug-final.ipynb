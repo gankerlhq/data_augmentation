{
 "cells": [
  {
   "cell_type": "code",
   "execution_count": 204,
   "id": "896bdf80",
   "metadata": {},
   "outputs": [],
   "source": [
    "import os\n",
    "import sys\n",
    "import math\n",
    "from datetime import datetime, timedelta\n",
    "\n",
    "import tsaug\n",
    "from tsaug import TimeWarp, Crop, Quantize, Drift, Reverse\n",
    "from tsaug.visualization import plot\n",
    "\n",
    "import numpy as np\n",
    "import pandas as pd\n",
    "from matplotlib import pyplot as plt\n",
    "import matplotlib.dates as mdates\n",
    "import plotly.graph_objects as go"
   ]
  },
  {
   "cell_type": "code",
   "execution_count": 205,
   "id": "c1a77c5b",
   "metadata": {},
   "outputs": [],
   "source": [
    "# Start date needs for final augmented data.\n",
    "HISTORICAL_DATE = '2022-01-01'"
   ]
  },
  {
   "cell_type": "code",
   "execution_count": 206,
   "id": "807cce52",
   "metadata": {},
   "outputs": [],
   "source": [
    "# Example more tsaug options\n",
    "OTHER_TSAUG_OPTIONS = {\n",
    "    #REFERENCE: https://tsaug.readthedocs.io/en/stable/references.html#tsaug.AddNoise\n",
    "    \"kind\": \"additive\",\n",
    "}"
   ]
  },
  {
   "cell_type": "code",
   "execution_count": 207,
   "id": "9bf200d3",
   "metadata": {},
   "outputs": [],
   "source": [
    "# UTILS FUNCTIONS\n",
    "date_format = '%Y-%m-%d'\n",
    "def calculate_number_of_augment_need(start_date, end_date, days_range):\n",
    "    res = math.ceil(((end_date - start_date)/days_range))\n",
    "    return res\n",
    "\n",
    "def date_parser(x):\n",
    "\treturn datetime.strptime(x, date_format)\n",
    "\n",
    "def add_noise(Y, X, scale=0.1, repeats=1, **other_options):\n",
    "    return tsaug.AddNoise(scale=scale, \n",
    "                          repeats=repeats,\n",
    "                          **other_options\n",
    "                         ).augment(Y, X)\n",
    "\n",
    "def pre_process(df_raw):\n",
    "    # Find missing dates\n",
    "    empty = pd.date_range(df_final.datetime.min(), df_final.datetime.max()).difference(df_final.datetime)"
   ]
  },
  {
   "cell_type": "code",
   "execution_count": 208,
   "id": "b2e60648",
   "metadata": {},
   "outputs": [],
   "source": [
    "# Read real metrics data from VNG EP account\n",
    "cost_with_instances_info_file = './data/gcp_cost_with_instance_info.csv'\n",
    "cpu_utilize_file = './data/raw_gcp_cpu_utilization.json'\n",
    "network_in_file = './data/raw_gcp_network_in.json'\n",
    "network_out_file = './data/raw_gcp_network_out.json'\n",
    "df_cost_instances_info = pd.read_csv(cost_with_instances_info_file, sep=',', header=0, parse_dates=[2],\n",
    "        date_parser=date_parser,  dtype={'instanceId': str})\n",
    "df_cpu = pd.read_json(cpu_utilize_file, dtype={'instanceId': str})\n",
    "df_network_in = pd.read_json(network_in_file, dtype={'instanceId': str})\n",
    "df_network_out = pd.read_json(network_out_file, dtype={'instanceId': str})"
   ]
  },
  {
   "cell_type": "code",
   "execution_count": 209,
   "id": "0860d992",
   "metadata": {},
   "outputs": [],
   "source": [
    "\"\"\"\n",
    "@param df_raw: data raw read from file\n",
    "@param instanceId: instance ID/ asset ID\n",
    "@param historical_date: starting date needs for data\n",
    "@param metric_type: new columne name for new dataset, example: CPUUtilization\n",
    "@return: df augmented to historical_date\n",
    "\"\"\"\n",
    "def augment_metrics(df_raw, asset_id, historical_date, metric_type, value_field, scale=0.01):\n",
    "    asset_id_field = \"instanceId\"\n",
    "    datetime_field = \"datetime\"\n",
    "    \n",
    "    # Get data belonging to an asset\n",
    "    df_raw_i = df_raw[df_raw[asset_id_field] == asset_id].copy()\n",
    "    if df_raw_i.empty:\n",
    "        raise Exception(f\"No data for metrics {metric_type} of instance {asset_id}. Ignore this instance.\")\n",
    "    \n",
    "    # days_range: number of days in real data\n",
    "    start_date = df_raw_i.datetime.min().date()\n",
    "    end_date = df_raw_i.datetime.min().date()\n",
    "    days_range = end_date - start_date + timedelta(days=1)\n",
    "    \n",
    "    # Build X-axis, values from 0 to length of X. X with date values is causing errors when augmenting.\n",
    "    X = np.arange(len(df_raw_i))\n",
    "    \n",
    "    # Build X-axis with date values, use for final dataset, not to augment.\n",
    "    X_date = df_raw_i[datetime_field].map(lambda x: int(x.timestamp()*1000)).tolist()\n",
    "    \n",
    "    # Build Y axis\n",
    "    Y = df_raw_i[value_field].tolist()\n",
    "    Y = np.array(Y)\n",
    "    \n",
    "    # Calculate number of loops until date reach historical date\n",
    "    repeats = calculate_number_of_augment_need(historical_date.date(), start_date,days_range)\n",
    "    \n",
    "    # Map dates to timestamp format\n",
    "    X_date = df_raw_i[datetime_field].map(lambda x: int(x.timestamp()*1000)).tolist()\n",
    "    \n",
    "    # Extend date (X-axis) to historical date\n",
    "    X_date_extended1 = pd.date_range(start_date - days_range * repeats,start_date,freq='d').map(lambda x: int(x.timestamp()*1000))\n",
    "    \n",
    "    # Remove first record of extended X\n",
    "    X_date_extended = np.hstack([X_date_extended1, X_date])[1:]\n",
    "    \n",
    "    Y_extended = []\n",
    "    \n",
    "    Y_aug, X_aug = add_noise(Y, X, scale, repeats, **OTHER_TSAUG_OPTIONS)\n",
    "    \n",
    "    # Augment Y until X reach historical date\n",
    "    for i in Y_aug:\n",
    "        Y_extended.append(i)\n",
    "        \n",
    "    # Append augmented Y to original Y\n",
    "    Y_extended = np.hstack([Y] + Y_extended)\n",
    "    \n",
    "    # Build new DF, ,ap back X from timestime to datetime format\n",
    "    new_df = pd.DataFrame({'datetime': list(map(lambda x: datetime.fromtimestamp(x/1000.0).strftime('%Y-%m-%d'),X_date_extended))})\n",
    "    \n",
    "    # Add Y column and sort the new dataframe by datetime\n",
    "    new_df[metric_type] = pd.Series(Y_extended)\n",
    "    new_df = new_df.sort_values('datetime')\n",
    "    return new_df"
   ]
  },
  {
   "cell_type": "code",
   "execution_count": 210,
   "id": "36bc811f",
   "metadata": {},
   "outputs": [
    {
     "name": "stdout",
     "output_type": "stream",
     "text": [
      "No data for metrics vCPUs of instance 3922265808357194945. Ignore this instance.\n",
      "No data for metrics vCPUs of instance 2265529010543344118. Ignore this instance.\n",
      "No data for metrics vCPUs of instance 4036654423970744204. Ignore this instance.\n",
      "No data for metrics vCPUs of instance 6835791843203149124. Ignore this instance.\n",
      "No data for metrics networkIn of instance 5218666880235370347. Ignore this instance.\n",
      "No data for metrics vCPUs of instance 5353556143556258917. Ignore this instance.\n"
     ]
    }
   ],
   "source": [
    "historical_date = datetime.strptime(HISTORICAL_DATE, '%Y-%m-%d')\n",
    "instanceIds = df_cpu['instanceId'].unique().tolist()\n",
    "df_final = None\n",
    "for instanceId in instanceIds:\n",
    "    try:\n",
    "        df_cpu_i = augment_metrics(df_cpu, instanceId, historical_date, 'cpuUtilization', \"avgValue\")\n",
    "        # Needs smaller scale for network, because it may produce negative values\n",
    "        df_network_i = augment_metrics(df_network_in, instanceId, historical_date, 'networkIn', \"avgValue\", scale=0.006)\n",
    "        df_network_out_i = augment_metrics(df_network_out, instanceId, historical_date, 'networkOut', \"avgValue\")\n",
    "        df_vcpus_i = augment_metrics(df_cost_instances_info, instanceId, historical_date, 'vCPUs', 'vCPUs', scale=0)\n",
    "        df_memory_i = augment_metrics(df_cost_instances_info, instanceId, historical_date, 'memory_gb', 'memory_gb', scale=0)\n",
    "        df_bandwidth_i = augment_metrics(df_cost_instances_info, instanceId, historical_date, 'bandwidth_gbps', 'bandwidth_gbps', scale=0)\n",
    "        df_cost_i = augment_metrics(df_cost_instances_info, instanceId, historical_date, 'costInUsd', 'costInUsd')\n",
    "        \n",
    "        df_new = pd.merge(df_cpu_i, df_network_i, on=['datetime'], how='outer')\n",
    "        df_new = pd.merge(df_new, df_network_out_i, on=['datetime'], how='outer')\n",
    "        df_new = pd.merge(df_new, df_vcpus_i, on=['datetime'], how='outer')\n",
    "        df_new = pd.merge(df_new, df_memory_i, on=['datetime'], how='outer')\n",
    "        df_new = pd.merge(df_new, df_bandwidth_i, on=['datetime'], how='outer')\n",
    "        df_new = pd.merge(df_new, df_cost_i, on=['datetime'], how='outer')\n",
    "        df_new['instanceId'] = instanceId\n",
    "        if df_final is not None:\n",
    "            df_final = pd.concat([df_final, df_new])\n",
    "        else:\n",
    "            df_final = df_new\n",
    "    except Exception as e:\n",
    "        print(e)\n",
    "        pass"
   ]
  },
  {
   "cell_type": "code",
   "execution_count": 211,
   "id": "10000ba5",
   "metadata": {},
   "outputs": [
    {
     "data": {
      "text/html": [
       "<div>\n",
       "<style scoped>\n",
       "    .dataframe tbody tr th:only-of-type {\n",
       "        vertical-align: middle;\n",
       "    }\n",
       "\n",
       "    .dataframe tbody tr th {\n",
       "        vertical-align: top;\n",
       "    }\n",
       "\n",
       "    .dataframe thead th {\n",
       "        text-align: right;\n",
       "    }\n",
       "</style>\n",
       "<table border=\"1\" class=\"dataframe\">\n",
       "  <thead>\n",
       "    <tr style=\"text-align: right;\">\n",
       "      <th></th>\n",
       "      <th>datetime</th>\n",
       "      <th>cpuUtilization</th>\n",
       "      <th>networkIn</th>\n",
       "      <th>networkOut</th>\n",
       "      <th>vCPUs</th>\n",
       "      <th>memory_gb</th>\n",
       "      <th>bandwidth_gbps</th>\n",
       "      <th>costInUsd</th>\n",
       "      <th>instanceId</th>\n",
       "    </tr>\n",
       "  </thead>\n",
       "  <tbody>\n",
       "    <tr>\n",
       "      <th>0</th>\n",
       "      <td>2022-01-02</td>\n",
       "      <td>0.010492</td>\n",
       "      <td>8.798382e+03</td>\n",
       "      <td>60.344538</td>\n",
       "      <td>1.0</td>\n",
       "      <td>1.7</td>\n",
       "      <td>1.0</td>\n",
       "      <td>0.211182</td>\n",
       "      <td>2084983531904533635</td>\n",
       "    </tr>\n",
       "    <tr>\n",
       "      <th>0</th>\n",
       "      <td>2022-01-02</td>\n",
       "      <td>0.029246</td>\n",
       "      <td>1.350986e+04</td>\n",
       "      <td>89.967667</td>\n",
       "      <td>1.0</td>\n",
       "      <td>0.6</td>\n",
       "      <td>1.0</td>\n",
       "      <td>0.428642</td>\n",
       "      <td>2626184973528935008</td>\n",
       "    </tr>\n",
       "    <tr>\n",
       "      <th>0</th>\n",
       "      <td>2022-01-02</td>\n",
       "      <td>0.028106</td>\n",
       "      <td>1.031189e+04</td>\n",
       "      <td>118.875289</td>\n",
       "      <td>1.0</td>\n",
       "      <td>0.6</td>\n",
       "      <td>1.0</td>\n",
       "      <td>0.349357</td>\n",
       "      <td>7878069179189498993</td>\n",
       "    </tr>\n",
       "    <tr>\n",
       "      <th>0</th>\n",
       "      <td>2022-01-02</td>\n",
       "      <td>0.011845</td>\n",
       "      <td>1.541477e+04</td>\n",
       "      <td>209.912240</td>\n",
       "      <td>1.0</td>\n",
       "      <td>1.7</td>\n",
       "      <td>1.0</td>\n",
       "      <td>0.900609</td>\n",
       "      <td>896514558657869575</td>\n",
       "    </tr>\n",
       "    <tr>\n",
       "      <th>0</th>\n",
       "      <td>2022-01-02</td>\n",
       "      <td>0.090497</td>\n",
       "      <td>6.794989e+06</td>\n",
       "      <td>831.914550</td>\n",
       "      <td>1.0</td>\n",
       "      <td>1.7</td>\n",
       "      <td>1.0</td>\n",
       "      <td>0.881905</td>\n",
       "      <td>3987000818135333307</td>\n",
       "    </tr>\n",
       "    <tr>\n",
       "      <th>...</th>\n",
       "      <td>...</td>\n",
       "      <td>...</td>\n",
       "      <td>...</td>\n",
       "      <td>...</td>\n",
       "      <td>...</td>\n",
       "      <td>...</td>\n",
       "      <td>...</td>\n",
       "      <td>...</td>\n",
       "      <td>...</td>\n",
       "    </tr>\n",
       "    <tr>\n",
       "      <th>339</th>\n",
       "      <td>2022-11-19</td>\n",
       "      <td>0.000000</td>\n",
       "      <td>0.000000e+00</td>\n",
       "      <td>49.188867</td>\n",
       "      <td>0.0</td>\n",
       "      <td>0.0</td>\n",
       "      <td>0.0</td>\n",
       "      <td>0.000000</td>\n",
       "      <td>1236188674412042392</td>\n",
       "    </tr>\n",
       "    <tr>\n",
       "      <th>339</th>\n",
       "      <td>2022-11-19</td>\n",
       "      <td>0.000000</td>\n",
       "      <td>0.000000e+00</td>\n",
       "      <td>70.650361</td>\n",
       "      <td>0.0</td>\n",
       "      <td>0.0</td>\n",
       "      <td>0.0</td>\n",
       "      <td>0.000000</td>\n",
       "      <td>7884692980835346248</td>\n",
       "    </tr>\n",
       "    <tr>\n",
       "      <th>343</th>\n",
       "      <td>2022-11-19</td>\n",
       "      <td>0.000000</td>\n",
       "      <td>0.000000e+00</td>\n",
       "      <td>98.968359</td>\n",
       "      <td>0.0</td>\n",
       "      <td>0.0</td>\n",
       "      <td>0.0</td>\n",
       "      <td>0.000000</td>\n",
       "      <td>8144675344174665202</td>\n",
       "    </tr>\n",
       "    <tr>\n",
       "      <th>340</th>\n",
       "      <td>2022-11-19</td>\n",
       "      <td>0.000000</td>\n",
       "      <td>0.000000e+00</td>\n",
       "      <td>128.579854</td>\n",
       "      <td>0.0</td>\n",
       "      <td>0.0</td>\n",
       "      <td>0.0</td>\n",
       "      <td>0.000000</td>\n",
       "      <td>2092202371188836866</td>\n",
       "    </tr>\n",
       "    <tr>\n",
       "      <th>339</th>\n",
       "      <td>2022-11-19</td>\n",
       "      <td>0.000000</td>\n",
       "      <td>0.000000e+00</td>\n",
       "      <td>94.517133</td>\n",
       "      <td>0.0</td>\n",
       "      <td>0.0</td>\n",
       "      <td>0.0</td>\n",
       "      <td>0.000000</td>\n",
       "      <td>5681595381851713673</td>\n",
       "    </tr>\n",
       "  </tbody>\n",
       "</table>\n",
       "<p>12040 rows × 9 columns</p>\n",
       "</div>"
      ],
      "text/plain": [
       "       datetime  cpuUtilization     networkIn  networkOut  vCPUs  memory_gb  \\\n",
       "0    2022-01-02        0.010492  8.798382e+03   60.344538    1.0        1.7   \n",
       "0    2022-01-02        0.029246  1.350986e+04   89.967667    1.0        0.6   \n",
       "0    2022-01-02        0.028106  1.031189e+04  118.875289    1.0        0.6   \n",
       "0    2022-01-02        0.011845  1.541477e+04  209.912240    1.0        1.7   \n",
       "0    2022-01-02        0.090497  6.794989e+06  831.914550    1.0        1.7   \n",
       "..          ...             ...           ...         ...    ...        ...   \n",
       "339  2022-11-19        0.000000  0.000000e+00   49.188867    0.0        0.0   \n",
       "339  2022-11-19        0.000000  0.000000e+00   70.650361    0.0        0.0   \n",
       "343  2022-11-19        0.000000  0.000000e+00   98.968359    0.0        0.0   \n",
       "340  2022-11-19        0.000000  0.000000e+00  128.579854    0.0        0.0   \n",
       "339  2022-11-19        0.000000  0.000000e+00   94.517133    0.0        0.0   \n",
       "\n",
       "     bandwidth_gbps  costInUsd           instanceId  \n",
       "0               1.0   0.211182  2084983531904533635  \n",
       "0               1.0   0.428642  2626184973528935008  \n",
       "0               1.0   0.349357  7878069179189498993  \n",
       "0               1.0   0.900609   896514558657869575  \n",
       "0               1.0   0.881905  3987000818135333307  \n",
       "..              ...        ...                  ...  \n",
       "339             0.0   0.000000  1236188674412042392  \n",
       "339             0.0   0.000000  7884692980835346248  \n",
       "343             0.0   0.000000  8144675344174665202  \n",
       "340             0.0   0.000000  2092202371188836866  \n",
       "339             0.0   0.000000  5681595381851713673  \n",
       "\n",
       "[12040 rows x 9 columns]"
      ]
     },
     "metadata": {},
     "output_type": "display_data"
    }
   ],
   "source": [
    "df_final = df_final.drop(df_final[df_final.datetime < HISTORICAL_DATE].index)\\\n",
    "                    .sort_values('datetime')\\\n",
    "                    .fillna(0)\n",
    "display(df_final)"
   ]
  },
  {
   "cell_type": "code",
   "execution_count": 212,
   "id": "1ba320a1",
   "metadata": {},
   "outputs": [
    {
     "name": "stdout",
     "output_type": "stream",
     "text": [
      "MISSING DATE: 0\n",
      "NULL COLUMNS:\n",
      "datetime          0\n",
      "cpuUtilization    0\n",
      "networkIn         0\n",
      "networkOut        0\n",
      "vCPUs             0\n",
      "memory_gb         0\n",
      "bandwidth_gbps    0\n",
      "costInUsd         0\n",
      "instanceId        0\n",
      "dtype: int64\n"
     ]
    }
   ],
   "source": [
    "# Check data abnormalities\n",
    "empty = pd.date_range(df_final.datetime.min(), df_final.datetime.max()).difference(df_final.datetime)\n",
    "print(\"MISSING DATE:\", len(empty))\n",
    "print(\"NULL COLUMNS:\")\n",
    "print(df_final.isna().sum())"
   ]
  },
  {
   "cell_type": "code",
   "execution_count": 213,
   "id": "d1db0bbb",
   "metadata": {},
   "outputs": [],
   "source": [
    "# WRITE TO FINAL FILE\n",
    "df_final.to_csv('./data/gcp_cost_metrics_augmented_final.csv', sep=',')"
   ]
  },
  {
   "cell_type": "code",
   "execution_count": 214,
   "id": "bdba6d74",
   "metadata": {},
   "outputs": [],
   "source": [
    "# ---- EXPERIMENT"
   ]
  },
  {
   "cell_type": "code",
   "execution_count": 219,
   "id": "fef1869f",
   "metadata": {},
   "outputs": [
    {
     "data": {
      "application/vnd.plotly.v1+json": {
       "config": {
        "plotlyServerURL": "https://plot.ly"
       },
       "data": [
        {
         "mode": "lines",
         "name": "costInUsd",
         "type": "scatter",
         "x": [
          "2022-01-02",
          "2022-01-03",
          "2022-01-04",
          "2022-01-05",
          "2022-01-06",
          "2022-01-07",
          "2022-01-08",
          "2022-01-09",
          "2022-01-10",
          "2022-01-11",
          "2022-01-12",
          "2022-01-13",
          "2022-01-14",
          "2022-01-15",
          "2022-01-16",
          "2022-01-17",
          "2022-01-18",
          "2022-01-19",
          "2022-01-20",
          "2022-01-21",
          "2022-01-22",
          "2022-01-23",
          "2022-01-24",
          "2022-01-25",
          "2022-01-26",
          "2022-01-27",
          "2022-01-28",
          "2022-01-29",
          "2022-01-30",
          "2022-01-31",
          "2022-02-01",
          "2022-02-02",
          "2022-02-03",
          "2022-02-04",
          "2022-02-05",
          "2022-02-06",
          "2022-02-07",
          "2022-02-08",
          "2022-02-09",
          "2022-02-10",
          "2022-02-11",
          "2022-02-12",
          "2022-02-13",
          "2022-02-14",
          "2022-02-15",
          "2022-02-16",
          "2022-02-17",
          "2022-02-18",
          "2022-02-19",
          "2022-02-20",
          "2022-02-21",
          "2022-02-22",
          "2022-02-23",
          "2022-02-24",
          "2022-02-25",
          "2022-02-26",
          "2022-02-27",
          "2022-02-28",
          "2022-03-01",
          "2022-03-02",
          "2022-03-03",
          "2022-03-04",
          "2022-03-05",
          "2022-03-06",
          "2022-03-07",
          "2022-03-08",
          "2022-03-09",
          "2022-03-10",
          "2022-03-11",
          "2022-03-12",
          "2022-03-13",
          "2022-03-14",
          "2022-03-15",
          "2022-03-16",
          "2022-03-17",
          "2022-03-18",
          "2022-03-19",
          "2022-03-20",
          "2022-03-21",
          "2022-03-22",
          "2022-03-23",
          "2022-03-24",
          "2022-03-25",
          "2022-03-26",
          "2022-03-27",
          "2022-03-28",
          "2022-03-29",
          "2022-03-30",
          "2022-03-31",
          "2022-04-01",
          "2022-04-02",
          "2022-04-03",
          "2022-04-04",
          "2022-04-05",
          "2022-04-06",
          "2022-04-07",
          "2022-04-08",
          "2022-04-09",
          "2022-04-10",
          "2022-04-11",
          "2022-04-12",
          "2022-04-13",
          "2022-04-14",
          "2022-04-15",
          "2022-04-16",
          "2022-04-17",
          "2022-04-18",
          "2022-04-19",
          "2022-04-20",
          "2022-04-21",
          "2022-04-22",
          "2022-04-23",
          "2022-04-24",
          "2022-04-25",
          "2022-04-26",
          "2022-04-27",
          "2022-04-28",
          "2022-04-29",
          "2022-04-30",
          "2022-05-01",
          "2022-05-02",
          "2022-05-03",
          "2022-05-04",
          "2022-05-05",
          "2022-05-06",
          "2022-05-07",
          "2022-05-08",
          "2022-05-09",
          "2022-05-10",
          "2022-05-11",
          "2022-05-12",
          "2022-05-13",
          "2022-05-14",
          "2022-05-15",
          "2022-05-16",
          "2022-05-17",
          "2022-05-18",
          "2022-05-19",
          "2022-05-20",
          "2022-05-21",
          "2022-05-22",
          "2022-05-23",
          "2022-05-24",
          "2022-05-25",
          "2022-05-26",
          "2022-05-27",
          "2022-05-28",
          "2022-05-29",
          "2022-05-30",
          "2022-05-31",
          "2022-06-01",
          "2022-06-02",
          "2022-06-03",
          "2022-06-04",
          "2022-06-05",
          "2022-06-06",
          "2022-06-07",
          "2022-06-08",
          "2022-06-09",
          "2022-06-10",
          "2022-06-11",
          "2022-06-12",
          "2022-06-13",
          "2022-06-14",
          "2022-06-15",
          "2022-06-16",
          "2022-06-17",
          "2022-06-18",
          "2022-06-19",
          "2022-06-20",
          "2022-06-21",
          "2022-06-22",
          "2022-06-23",
          "2022-06-24",
          "2022-06-25",
          "2022-06-26",
          "2022-06-27",
          "2022-06-28",
          "2022-06-29",
          "2022-06-30",
          "2022-07-01",
          "2022-07-02",
          "2022-07-03",
          "2022-07-04",
          "2022-07-05",
          "2022-07-05",
          "2022-07-05",
          "2022-07-05",
          "2022-07-05",
          "2022-07-05",
          "2022-07-05",
          "2022-07-05",
          "2022-07-05",
          "2022-07-05",
          "2022-07-05",
          "2022-07-05",
          "2022-07-05",
          "2022-07-05",
          "2022-07-05",
          "2022-07-05",
          "2022-07-06",
          "2022-07-07",
          "2022-07-08",
          "2022-07-09",
          "2022-07-10",
          "2022-07-11",
          "2022-07-12",
          "2022-07-13",
          "2022-07-14",
          "2022-07-15",
          "2022-07-16",
          "2022-07-17",
          "2022-07-18",
          "2022-07-19",
          "2022-07-20",
          "2022-07-21",
          "2022-07-22",
          "2022-07-23",
          "2022-07-24",
          "2022-07-25",
          "2022-07-26",
          "2022-07-27",
          "2022-07-28",
          "2022-07-29",
          "2022-07-30",
          "2022-07-31",
          "2022-08-01",
          "2022-08-02",
          "2022-08-03",
          "2022-08-04",
          "2022-08-05",
          "2022-08-06",
          "2022-08-07",
          "2022-08-08",
          "2022-08-09",
          "2022-08-10",
          "2022-08-11",
          "2022-08-12",
          "2022-08-13",
          "2022-08-14",
          "2022-08-15",
          "2022-08-16",
          "2022-08-17",
          "2022-08-18",
          "2022-08-19",
          "2022-08-20",
          "2022-08-21",
          "2022-08-22",
          "2022-08-23",
          "2022-08-24",
          "2022-08-25",
          "2022-08-26",
          "2022-08-27",
          "2022-08-28",
          "2022-08-29",
          "2022-08-30",
          "2022-08-31",
          "2022-09-01",
          "2022-09-02",
          "2022-09-03",
          "2022-09-04",
          "2022-09-05",
          "2022-09-06",
          "2022-09-07",
          "2022-09-08",
          "2022-09-09",
          "2022-09-10",
          "2022-09-11",
          "2022-09-12",
          "2022-09-13",
          "2022-09-14",
          "2022-09-15",
          "2022-09-15",
          "2022-09-15",
          "2022-09-15",
          "2022-09-15",
          "2022-09-15",
          "2022-09-15",
          "2022-09-15",
          "2022-09-16",
          "2022-09-17",
          "2022-09-18",
          "2022-09-19",
          "2022-09-20",
          "2022-09-21",
          "2022-09-22",
          "2022-09-23",
          "2022-09-24",
          "2022-09-25",
          "2022-09-26",
          "2022-09-27",
          "2022-09-28",
          "2022-09-29",
          "2022-09-30",
          "2022-10-01",
          "2022-10-02",
          "2022-10-03",
          "2022-10-04",
          "2022-10-05",
          "2022-10-06",
          "2022-10-07",
          "2022-10-08",
          "2022-10-09",
          "2022-10-10",
          "2022-10-11",
          "2022-10-12",
          "2022-10-13",
          "2022-10-14",
          "2022-10-15",
          "2022-10-16",
          "2022-10-17",
          "2022-10-18",
          "2022-10-19",
          "2022-10-20",
          "2022-10-21",
          "2022-10-22",
          "2022-10-23",
          "2022-10-24",
          "2022-10-25",
          "2022-10-26",
          "2022-10-27",
          "2022-10-28",
          "2022-10-29",
          "2022-10-30",
          "2022-10-31",
          "2022-11-01",
          "2022-11-02",
          "2022-11-03",
          "2022-11-04",
          "2022-11-05",
          "2022-11-06",
          "2022-11-07",
          "2022-11-08",
          "2022-11-09",
          "2022-11-10",
          "2022-11-11",
          "2022-11-12",
          "2022-11-13",
          "2022-11-14",
          "2022-11-15",
          "2022-11-16",
          "2022-11-17",
          "2022-11-18",
          "2022-11-19"
         ],
         "y": [
          0.337985,
          0.3101749999999999,
          0.410504,
          0.3717029999999998,
          0.3474320000000001,
          0.3910120000000001,
          0.365634,
          0.387766,
          0.4244639999999999,
          0.0097989999999999,
          0.3889459999999999,
          0.298343,
          0.227343,
          0.3248220000000001,
          0.391599,
          0.5058110000000001,
          0.282071,
          0.3645849999999999,
          0.345691,
          0.3802550000000001,
          0.3376819999999999,
          0.322097,
          0.4800269999999996,
          0.2557749999999999,
          0.3585639999999998,
          0.4697920000000002,
          0.3448319999999998,
          0.3528699999999999,
          0.3396429999999998,
          0.303421,
          0.4170330000000001,
          0.24533,
          0.3086270000000001,
          0.343003,
          0.3176509999999999,
          0.354169,
          0.4282070000000001,
          0.3533940000000002,
          0.246708,
          0.3252099999999999,
          0.074292,
          0.3119629999999998,
          0.215311,
          0.3753220000000001,
          0.33053,
          0.3341349999999999,
          0.3994340000000001,
          0.3548199999999999,
          0.3101120000000001,
          0.4082730000000002,
          0.3346329999999999,
          0.3195299999999998,
          0.039567,
          0.3642659999999998,
          0.339775,
          0.356772,
          0.0731999999999999,
          0.446308,
          0.3250929999999999,
          0.486079,
          0.4990100000000001,
          0.5082339999999999,
          0.337768,
          0.3561840000000001,
          0.3870750000000002,
          0.3564679999999997,
          0.359179,
          0.340706,
          0.3609,
          0.391518,
          0.36146,
          0.2515419999999999,
          0.345377,
          0.8223970000000028,
          0.3314880000000001,
          0.3073329999999999,
          0.284076,
          0.2395569999999999,
          0.3357840000000001,
          0.3627999999999998,
          0.4138399999999999,
          0.32445,
          0.3715760000000001,
          0.3087249999999999,
          0.426027,
          0.3785029999999999,
          0.3168689999999998,
          0.3437739999999999,
          0.347077,
          0.322815,
          0.381937,
          0.372373,
          0.3339250000000001,
          -0.2420550000000002,
          0.358563,
          0.3662760000000001,
          0.4692279999999998,
          0.348308,
          0.419452,
          0.3947679999999998,
          0.4065930000000003,
          0.30889,
          0.3420069999999999,
          0.3944169999999999,
          0.37977,
          0.3127229999999998,
          0.7427440000000002,
          0.2981080000000001,
          0.3412489999999998,
          0.3495129999999998,
          0.3471359999999998,
          0.3482880000000001,
          0.3642140000000002,
          0.3169670000000001,
          0.3190489999999997,
          0.2547109999999999,
          0.3440089999999997,
          0.3591859999999999,
          0.4187689999999999,
          0.329567,
          0.3026469999999998,
          0.2674839999999998,
          0.348853,
          0.34294334214798883,
          0.30799555146448865,
          0.41225998556832194,
          0.34457882719486077,
          0.35202809121301476,
          0.40182978076680814,
          0.3580365583836807,
          0.40201490111183374,
          0.43349889234452516,
          0.024471131587718083,
          0.38654405493645727,
          0.3062468191617474,
          0.22762142031296334,
          0.3316331082826918,
          0.388611655862359,
          0.5152077726370685,
          0.26705445745030254,
          0.3671215420363378,
          0.3398665857341735,
          0.38204035563016875,
          0.3347593055639112,
          0.30861798575703897,
          0.46911166867181103,
          0.25700555502126493,
          0.33995536346845107,
          0.45862471481542605,
          0.34659114682240755,
          0.35309574262557375,
          0.35007001217077016,
          0.30290828057999925,
          0.4092489845623036,
          0.2628482364335548,
          0.3152506634586455,
          0.3388413620798655,
          0.31068695619210907,
          0.358850702245821,
          0.43493060361987285,
          0.3693248341377955,
          0.25472667489082074,
          0.3180532433060253,
          0.07385302780715972,
          0.3146740456464952,
          0.2103980472262523,
          0.39037305526136845,
          0.3159752447294336,
          0.3517531689339472,
          0.4031291402299855,
          0.3439291518978097,
          0.3110126254948014,
          0.4163578935513816,
          0.32557529913151734,
          0.3200654958495955,
          0.035693255551172136,
          0.37558369359770033,
          0.3243751321750766,
          0.3719358090604717,
          0.07502421367252737,
          0.4499344471351382,
          0.33175606024121945,
          0.49758471593858655,
          0.5169243226862524,
          0.49974581417918496,
          0.49974581417918496,
          0.2525475538985971,
          0.49974581417918496,
          0.2525475538985971,
          0.49974581417918496,
          0.2525475538985971,
          0.49974581417918496,
          0.2525475538985971,
          0.49974581417918496,
          0.2525475538985971,
          0.49974581417918496,
          0.2525475538985971,
          0.2525475538985971,
          0.2525475538985971,
          0.49974581417918496,
          0.3318225658379734,
          0.37388185640269056,
          0.3678715126024245,
          0.4170064325881637,
          0.30979778760315546,
          0.5009131019268668,
          -0.24600138145922346,
          0.339361695830465,
          0.39576316692448116,
          0.34999074610014574,
          0.4415947669825911,
          0.3684002553844522,
          0.2919988006147354,
          0.21131555736105367,
          0.32996233700726163,
          0.36897272716047896,
          0.32218128622559644,
          0.31059751497539806,
          0.2982531056092175,
          0.33121488552994627,
          0.3233358035706568,
          0.35440509716526747,
          0.3367562001335662,
          0.30003926392025354,
          0.3657662714275078,
          0.3306860422236478,
          0.24034447534961073,
          0.2377304888104136,
          0.2618723788788066,
          0.44616339236601604,
          0.40508974378646206,
          0.26435272044265196,
          0.426499129116829,
          0.48278173742414293,
          0.3455704939668337,
          0.3352627201905769,
          0.3655297716597135,
          0.3325996371840708,
          0.33782345114315043,
          0.3832629863765471,
          0.003383604028425086,
          0.3221968999111664,
          0.40710190007924746,
          0.3551056084857354,
          0.3048318430738085,
          0.3951465933584842,
          0.3556854775547173,
          0.09744067351141047,
          0.3320883186963893,
          0.36223759103362874,
          0.42378905937030764,
          0.3797435368116919,
          0.3849700642200676,
          0.3583688405355541,
          0.39115691898198374,
          0.35038120306046877,
          0.3902482637298659,
          0.3815916287965865,
          0.8144463684458539,
          0.2874838683484311,
          0.31476032117429087,
          0.30029320284828276,
          0.3065308997720903,
          0.09504681570855239,
          0.4667944940396463,
          0.38757883846043517,
          0.3468857675057629,
          0.3510569825138923,
          0.40720137855640104,
          0.27385697512948115,
          0.3640131299904554,
          0.3379652337160386,
          0.3379652337160386,
          0.3379652337160386,
          0.3379652337160386,
          0.3379652337160386,
          0.3379652337160386,
          0.3379652337160386,
          0.3379652337160386,
          0.3621123786619745,
          0.3872586517743979,
          0.3530575839171576,
          0.33742550876266975,
          0.5051996341575666,
          0.40841997670489477,
          0.30468077566772156,
          0.32412633060439094,
          0.3487254408214361,
          0.3321031925357376,
          0.3740555547653538,
          0.29990131559498884,
          0.04956246958529769,
          0.46241017748070523,
          0.3749561284010011,
          0.4908160163618386,
          0.3037961447026625,
          0.3441636249996455,
          0.3276850642382202,
          0.3879804605296822,
          0.3441017714800308,
          0.377393838106187,
          0.3519918344545539,
          0.33564824736584786,
          0.31854240768043435,
          0.37817987123519814,
          0.24703207426356533,
          0.34216455835983667,
          0.36560138912925455,
          0.40569165612242486,
          0.33315381925449516,
          0.3307283747252471,
          0.34877507159872956,
          0.3087877752166508,
          0.328949541631402,
          0.34104422860152017,
          0.2619335161619784,
          0.7415765282160435,
          0.4114783806467927,
          0.34517516155134326,
          0.399707426095234,
          0.36051408772629384,
          0.34192985083644656,
          0.2401219444487001,
          0.3113342333253077,
          0.35177811961237504,
          0.34512907116298525,
          0.514751407807423,
          0.39803507655929643,
          0.4218126539727801,
          0,
          0,
          0,
          0,
          0,
          0,
          0,
          0,
          0,
          0,
          0,
          0,
          0,
          0,
          0
         ]
        }
       ],
       "layout": {
        "template": {
         "data": {
          "bar": [
           {
            "error_x": {
             "color": "#2a3f5f"
            },
            "error_y": {
             "color": "#2a3f5f"
            },
            "marker": {
             "line": {
              "color": "#E5ECF6",
              "width": 0.5
             },
             "pattern": {
              "fillmode": "overlay",
              "size": 10,
              "solidity": 0.2
             }
            },
            "type": "bar"
           }
          ],
          "barpolar": [
           {
            "marker": {
             "line": {
              "color": "#E5ECF6",
              "width": 0.5
             },
             "pattern": {
              "fillmode": "overlay",
              "size": 10,
              "solidity": 0.2
             }
            },
            "type": "barpolar"
           }
          ],
          "carpet": [
           {
            "aaxis": {
             "endlinecolor": "#2a3f5f",
             "gridcolor": "white",
             "linecolor": "white",
             "minorgridcolor": "white",
             "startlinecolor": "#2a3f5f"
            },
            "baxis": {
             "endlinecolor": "#2a3f5f",
             "gridcolor": "white",
             "linecolor": "white",
             "minorgridcolor": "white",
             "startlinecolor": "#2a3f5f"
            },
            "type": "carpet"
           }
          ],
          "choropleth": [
           {
            "colorbar": {
             "outlinewidth": 0,
             "ticks": ""
            },
            "type": "choropleth"
           }
          ],
          "contour": [
           {
            "colorbar": {
             "outlinewidth": 0,
             "ticks": ""
            },
            "colorscale": [
             [
              0,
              "#0d0887"
             ],
             [
              0.1111111111111111,
              "#46039f"
             ],
             [
              0.2222222222222222,
              "#7201a8"
             ],
             [
              0.3333333333333333,
              "#9c179e"
             ],
             [
              0.4444444444444444,
              "#bd3786"
             ],
             [
              0.5555555555555556,
              "#d8576b"
             ],
             [
              0.6666666666666666,
              "#ed7953"
             ],
             [
              0.7777777777777778,
              "#fb9f3a"
             ],
             [
              0.8888888888888888,
              "#fdca26"
             ],
             [
              1,
              "#f0f921"
             ]
            ],
            "type": "contour"
           }
          ],
          "contourcarpet": [
           {
            "colorbar": {
             "outlinewidth": 0,
             "ticks": ""
            },
            "type": "contourcarpet"
           }
          ],
          "heatmap": [
           {
            "colorbar": {
             "outlinewidth": 0,
             "ticks": ""
            },
            "colorscale": [
             [
              0,
              "#0d0887"
             ],
             [
              0.1111111111111111,
              "#46039f"
             ],
             [
              0.2222222222222222,
              "#7201a8"
             ],
             [
              0.3333333333333333,
              "#9c179e"
             ],
             [
              0.4444444444444444,
              "#bd3786"
             ],
             [
              0.5555555555555556,
              "#d8576b"
             ],
             [
              0.6666666666666666,
              "#ed7953"
             ],
             [
              0.7777777777777778,
              "#fb9f3a"
             ],
             [
              0.8888888888888888,
              "#fdca26"
             ],
             [
              1,
              "#f0f921"
             ]
            ],
            "type": "heatmap"
           }
          ],
          "heatmapgl": [
           {
            "colorbar": {
             "outlinewidth": 0,
             "ticks": ""
            },
            "colorscale": [
             [
              0,
              "#0d0887"
             ],
             [
              0.1111111111111111,
              "#46039f"
             ],
             [
              0.2222222222222222,
              "#7201a8"
             ],
             [
              0.3333333333333333,
              "#9c179e"
             ],
             [
              0.4444444444444444,
              "#bd3786"
             ],
             [
              0.5555555555555556,
              "#d8576b"
             ],
             [
              0.6666666666666666,
              "#ed7953"
             ],
             [
              0.7777777777777778,
              "#fb9f3a"
             ],
             [
              0.8888888888888888,
              "#fdca26"
             ],
             [
              1,
              "#f0f921"
             ]
            ],
            "type": "heatmapgl"
           }
          ],
          "histogram": [
           {
            "marker": {
             "pattern": {
              "fillmode": "overlay",
              "size": 10,
              "solidity": 0.2
             }
            },
            "type": "histogram"
           }
          ],
          "histogram2d": [
           {
            "colorbar": {
             "outlinewidth": 0,
             "ticks": ""
            },
            "colorscale": [
             [
              0,
              "#0d0887"
             ],
             [
              0.1111111111111111,
              "#46039f"
             ],
             [
              0.2222222222222222,
              "#7201a8"
             ],
             [
              0.3333333333333333,
              "#9c179e"
             ],
             [
              0.4444444444444444,
              "#bd3786"
             ],
             [
              0.5555555555555556,
              "#d8576b"
             ],
             [
              0.6666666666666666,
              "#ed7953"
             ],
             [
              0.7777777777777778,
              "#fb9f3a"
             ],
             [
              0.8888888888888888,
              "#fdca26"
             ],
             [
              1,
              "#f0f921"
             ]
            ],
            "type": "histogram2d"
           }
          ],
          "histogram2dcontour": [
           {
            "colorbar": {
             "outlinewidth": 0,
             "ticks": ""
            },
            "colorscale": [
             [
              0,
              "#0d0887"
             ],
             [
              0.1111111111111111,
              "#46039f"
             ],
             [
              0.2222222222222222,
              "#7201a8"
             ],
             [
              0.3333333333333333,
              "#9c179e"
             ],
             [
              0.4444444444444444,
              "#bd3786"
             ],
             [
              0.5555555555555556,
              "#d8576b"
             ],
             [
              0.6666666666666666,
              "#ed7953"
             ],
             [
              0.7777777777777778,
              "#fb9f3a"
             ],
             [
              0.8888888888888888,
              "#fdca26"
             ],
             [
              1,
              "#f0f921"
             ]
            ],
            "type": "histogram2dcontour"
           }
          ],
          "mesh3d": [
           {
            "colorbar": {
             "outlinewidth": 0,
             "ticks": ""
            },
            "type": "mesh3d"
           }
          ],
          "parcoords": [
           {
            "line": {
             "colorbar": {
              "outlinewidth": 0,
              "ticks": ""
             }
            },
            "type": "parcoords"
           }
          ],
          "pie": [
           {
            "automargin": true,
            "type": "pie"
           }
          ],
          "scatter": [
           {
            "fillpattern": {
             "fillmode": "overlay",
             "size": 10,
             "solidity": 0.2
            },
            "type": "scatter"
           }
          ],
          "scatter3d": [
           {
            "line": {
             "colorbar": {
              "outlinewidth": 0,
              "ticks": ""
             }
            },
            "marker": {
             "colorbar": {
              "outlinewidth": 0,
              "ticks": ""
             }
            },
            "type": "scatter3d"
           }
          ],
          "scattercarpet": [
           {
            "marker": {
             "colorbar": {
              "outlinewidth": 0,
              "ticks": ""
             }
            },
            "type": "scattercarpet"
           }
          ],
          "scattergeo": [
           {
            "marker": {
             "colorbar": {
              "outlinewidth": 0,
              "ticks": ""
             }
            },
            "type": "scattergeo"
           }
          ],
          "scattergl": [
           {
            "marker": {
             "colorbar": {
              "outlinewidth": 0,
              "ticks": ""
             }
            },
            "type": "scattergl"
           }
          ],
          "scattermapbox": [
           {
            "marker": {
             "colorbar": {
              "outlinewidth": 0,
              "ticks": ""
             }
            },
            "type": "scattermapbox"
           }
          ],
          "scatterpolar": [
           {
            "marker": {
             "colorbar": {
              "outlinewidth": 0,
              "ticks": ""
             }
            },
            "type": "scatterpolar"
           }
          ],
          "scatterpolargl": [
           {
            "marker": {
             "colorbar": {
              "outlinewidth": 0,
              "ticks": ""
             }
            },
            "type": "scatterpolargl"
           }
          ],
          "scatterternary": [
           {
            "marker": {
             "colorbar": {
              "outlinewidth": 0,
              "ticks": ""
             }
            },
            "type": "scatterternary"
           }
          ],
          "surface": [
           {
            "colorbar": {
             "outlinewidth": 0,
             "ticks": ""
            },
            "colorscale": [
             [
              0,
              "#0d0887"
             ],
             [
              0.1111111111111111,
              "#46039f"
             ],
             [
              0.2222222222222222,
              "#7201a8"
             ],
             [
              0.3333333333333333,
              "#9c179e"
             ],
             [
              0.4444444444444444,
              "#bd3786"
             ],
             [
              0.5555555555555556,
              "#d8576b"
             ],
             [
              0.6666666666666666,
              "#ed7953"
             ],
             [
              0.7777777777777778,
              "#fb9f3a"
             ],
             [
              0.8888888888888888,
              "#fdca26"
             ],
             [
              1,
              "#f0f921"
             ]
            ],
            "type": "surface"
           }
          ],
          "table": [
           {
            "cells": {
             "fill": {
              "color": "#EBF0F8"
             },
             "line": {
              "color": "white"
             }
            },
            "header": {
             "fill": {
              "color": "#C8D4E3"
             },
             "line": {
              "color": "white"
             }
            },
            "type": "table"
           }
          ]
         },
         "layout": {
          "annotationdefaults": {
           "arrowcolor": "#2a3f5f",
           "arrowhead": 0,
           "arrowwidth": 1
          },
          "autotypenumbers": "strict",
          "coloraxis": {
           "colorbar": {
            "outlinewidth": 0,
            "ticks": ""
           }
          },
          "colorscale": {
           "diverging": [
            [
             0,
             "#8e0152"
            ],
            [
             0.1,
             "#c51b7d"
            ],
            [
             0.2,
             "#de77ae"
            ],
            [
             0.3,
             "#f1b6da"
            ],
            [
             0.4,
             "#fde0ef"
            ],
            [
             0.5,
             "#f7f7f7"
            ],
            [
             0.6,
             "#e6f5d0"
            ],
            [
             0.7,
             "#b8e186"
            ],
            [
             0.8,
             "#7fbc41"
            ],
            [
             0.9,
             "#4d9221"
            ],
            [
             1,
             "#276419"
            ]
           ],
           "sequential": [
            [
             0,
             "#0d0887"
            ],
            [
             0.1111111111111111,
             "#46039f"
            ],
            [
             0.2222222222222222,
             "#7201a8"
            ],
            [
             0.3333333333333333,
             "#9c179e"
            ],
            [
             0.4444444444444444,
             "#bd3786"
            ],
            [
             0.5555555555555556,
             "#d8576b"
            ],
            [
             0.6666666666666666,
             "#ed7953"
            ],
            [
             0.7777777777777778,
             "#fb9f3a"
            ],
            [
             0.8888888888888888,
             "#fdca26"
            ],
            [
             1,
             "#f0f921"
            ]
           ],
           "sequentialminus": [
            [
             0,
             "#0d0887"
            ],
            [
             0.1111111111111111,
             "#46039f"
            ],
            [
             0.2222222222222222,
             "#7201a8"
            ],
            [
             0.3333333333333333,
             "#9c179e"
            ],
            [
             0.4444444444444444,
             "#bd3786"
            ],
            [
             0.5555555555555556,
             "#d8576b"
            ],
            [
             0.6666666666666666,
             "#ed7953"
            ],
            [
             0.7777777777777778,
             "#fb9f3a"
            ],
            [
             0.8888888888888888,
             "#fdca26"
            ],
            [
             1,
             "#f0f921"
            ]
           ]
          },
          "colorway": [
           "#636efa",
           "#EF553B",
           "#00cc96",
           "#ab63fa",
           "#FFA15A",
           "#19d3f3",
           "#FF6692",
           "#B6E880",
           "#FF97FF",
           "#FECB52"
          ],
          "font": {
           "color": "#2a3f5f"
          },
          "geo": {
           "bgcolor": "white",
           "lakecolor": "white",
           "landcolor": "#E5ECF6",
           "showlakes": true,
           "showland": true,
           "subunitcolor": "white"
          },
          "hoverlabel": {
           "align": "left"
          },
          "hovermode": "closest",
          "mapbox": {
           "style": "light"
          },
          "paper_bgcolor": "white",
          "plot_bgcolor": "#E5ECF6",
          "polar": {
           "angularaxis": {
            "gridcolor": "white",
            "linecolor": "white",
            "ticks": ""
           },
           "bgcolor": "#E5ECF6",
           "radialaxis": {
            "gridcolor": "white",
            "linecolor": "white",
            "ticks": ""
           }
          },
          "scene": {
           "xaxis": {
            "backgroundcolor": "#E5ECF6",
            "gridcolor": "white",
            "gridwidth": 2,
            "linecolor": "white",
            "showbackground": true,
            "ticks": "",
            "zerolinecolor": "white"
           },
           "yaxis": {
            "backgroundcolor": "#E5ECF6",
            "gridcolor": "white",
            "gridwidth": 2,
            "linecolor": "white",
            "showbackground": true,
            "ticks": "",
            "zerolinecolor": "white"
           },
           "zaxis": {
            "backgroundcolor": "#E5ECF6",
            "gridcolor": "white",
            "gridwidth": 2,
            "linecolor": "white",
            "showbackground": true,
            "ticks": "",
            "zerolinecolor": "white"
           }
          },
          "shapedefaults": {
           "line": {
            "color": "#2a3f5f"
           }
          },
          "ternary": {
           "aaxis": {
            "gridcolor": "white",
            "linecolor": "white",
            "ticks": ""
           },
           "baxis": {
            "gridcolor": "white",
            "linecolor": "white",
            "ticks": ""
           },
           "bgcolor": "#E5ECF6",
           "caxis": {
            "gridcolor": "white",
            "linecolor": "white",
            "ticks": ""
           }
          },
          "title": {
           "x": 0.05
          },
          "xaxis": {
           "automargin": true,
           "gridcolor": "white",
           "linecolor": "white",
           "ticks": "",
           "title": {
            "standoff": 15
           },
           "zerolinecolor": "white",
           "zerolinewidth": 2
          },
          "yaxis": {
           "automargin": true,
           "gridcolor": "white",
           "linecolor": "white",
           "ticks": "",
           "title": {
            "standoff": 15
           },
           "zerolinecolor": "white",
           "zerolinewidth": 2
          }
         }
        },
        "title": {
         "text": "Sample data for instance 8144675344174665202"
        }
       }
      },
      "text/html": [
       "<div>                            <div id=\"b478e413-5fcc-4b0a-a372-253aa5b26a52\" class=\"plotly-graph-div\" style=\"height:525px; width:100%;\"></div>            <script type=\"text/javascript\">                require([\"plotly\"], function(Plotly) {                    window.PLOTLYENV=window.PLOTLYENV || {};                                    if (document.getElementById(\"b478e413-5fcc-4b0a-a372-253aa5b26a52\")) {                    Plotly.newPlot(                        \"b478e413-5fcc-4b0a-a372-253aa5b26a52\",                        [{\"mode\":\"lines\",\"name\":\"costInUsd\",\"x\":[\"2022-01-02\",\"2022-01-03\",\"2022-01-04\",\"2022-01-05\",\"2022-01-06\",\"2022-01-07\",\"2022-01-08\",\"2022-01-09\",\"2022-01-10\",\"2022-01-11\",\"2022-01-12\",\"2022-01-13\",\"2022-01-14\",\"2022-01-15\",\"2022-01-16\",\"2022-01-17\",\"2022-01-18\",\"2022-01-19\",\"2022-01-20\",\"2022-01-21\",\"2022-01-22\",\"2022-01-23\",\"2022-01-24\",\"2022-01-25\",\"2022-01-26\",\"2022-01-27\",\"2022-01-28\",\"2022-01-29\",\"2022-01-30\",\"2022-01-31\",\"2022-02-01\",\"2022-02-02\",\"2022-02-03\",\"2022-02-04\",\"2022-02-05\",\"2022-02-06\",\"2022-02-07\",\"2022-02-08\",\"2022-02-09\",\"2022-02-10\",\"2022-02-11\",\"2022-02-12\",\"2022-02-13\",\"2022-02-14\",\"2022-02-15\",\"2022-02-16\",\"2022-02-17\",\"2022-02-18\",\"2022-02-19\",\"2022-02-20\",\"2022-02-21\",\"2022-02-22\",\"2022-02-23\",\"2022-02-24\",\"2022-02-25\",\"2022-02-26\",\"2022-02-27\",\"2022-02-28\",\"2022-03-01\",\"2022-03-02\",\"2022-03-03\",\"2022-03-04\",\"2022-03-05\",\"2022-03-06\",\"2022-03-07\",\"2022-03-08\",\"2022-03-09\",\"2022-03-10\",\"2022-03-11\",\"2022-03-12\",\"2022-03-13\",\"2022-03-14\",\"2022-03-15\",\"2022-03-16\",\"2022-03-17\",\"2022-03-18\",\"2022-03-19\",\"2022-03-20\",\"2022-03-21\",\"2022-03-22\",\"2022-03-23\",\"2022-03-24\",\"2022-03-25\",\"2022-03-26\",\"2022-03-27\",\"2022-03-28\",\"2022-03-29\",\"2022-03-30\",\"2022-03-31\",\"2022-04-01\",\"2022-04-02\",\"2022-04-03\",\"2022-04-04\",\"2022-04-05\",\"2022-04-06\",\"2022-04-07\",\"2022-04-08\",\"2022-04-09\",\"2022-04-10\",\"2022-04-11\",\"2022-04-12\",\"2022-04-13\",\"2022-04-14\",\"2022-04-15\",\"2022-04-16\",\"2022-04-17\",\"2022-04-18\",\"2022-04-19\",\"2022-04-20\",\"2022-04-21\",\"2022-04-22\",\"2022-04-23\",\"2022-04-24\",\"2022-04-25\",\"2022-04-26\",\"2022-04-27\",\"2022-04-28\",\"2022-04-29\",\"2022-04-30\",\"2022-05-01\",\"2022-05-02\",\"2022-05-03\",\"2022-05-04\",\"2022-05-05\",\"2022-05-06\",\"2022-05-07\",\"2022-05-08\",\"2022-05-09\",\"2022-05-10\",\"2022-05-11\",\"2022-05-12\",\"2022-05-13\",\"2022-05-14\",\"2022-05-15\",\"2022-05-16\",\"2022-05-17\",\"2022-05-18\",\"2022-05-19\",\"2022-05-20\",\"2022-05-21\",\"2022-05-22\",\"2022-05-23\",\"2022-05-24\",\"2022-05-25\",\"2022-05-26\",\"2022-05-27\",\"2022-05-28\",\"2022-05-29\",\"2022-05-30\",\"2022-05-31\",\"2022-06-01\",\"2022-06-02\",\"2022-06-03\",\"2022-06-04\",\"2022-06-05\",\"2022-06-06\",\"2022-06-07\",\"2022-06-08\",\"2022-06-09\",\"2022-06-10\",\"2022-06-11\",\"2022-06-12\",\"2022-06-13\",\"2022-06-14\",\"2022-06-15\",\"2022-06-16\",\"2022-06-17\",\"2022-06-18\",\"2022-06-19\",\"2022-06-20\",\"2022-06-21\",\"2022-06-22\",\"2022-06-23\",\"2022-06-24\",\"2022-06-25\",\"2022-06-26\",\"2022-06-27\",\"2022-06-28\",\"2022-06-29\",\"2022-06-30\",\"2022-07-01\",\"2022-07-02\",\"2022-07-03\",\"2022-07-04\",\"2022-07-05\",\"2022-07-05\",\"2022-07-05\",\"2022-07-05\",\"2022-07-05\",\"2022-07-05\",\"2022-07-05\",\"2022-07-05\",\"2022-07-05\",\"2022-07-05\",\"2022-07-05\",\"2022-07-05\",\"2022-07-05\",\"2022-07-05\",\"2022-07-05\",\"2022-07-05\",\"2022-07-06\",\"2022-07-07\",\"2022-07-08\",\"2022-07-09\",\"2022-07-10\",\"2022-07-11\",\"2022-07-12\",\"2022-07-13\",\"2022-07-14\",\"2022-07-15\",\"2022-07-16\",\"2022-07-17\",\"2022-07-18\",\"2022-07-19\",\"2022-07-20\",\"2022-07-21\",\"2022-07-22\",\"2022-07-23\",\"2022-07-24\",\"2022-07-25\",\"2022-07-26\",\"2022-07-27\",\"2022-07-28\",\"2022-07-29\",\"2022-07-30\",\"2022-07-31\",\"2022-08-01\",\"2022-08-02\",\"2022-08-03\",\"2022-08-04\",\"2022-08-05\",\"2022-08-06\",\"2022-08-07\",\"2022-08-08\",\"2022-08-09\",\"2022-08-10\",\"2022-08-11\",\"2022-08-12\",\"2022-08-13\",\"2022-08-14\",\"2022-08-15\",\"2022-08-16\",\"2022-08-17\",\"2022-08-18\",\"2022-08-19\",\"2022-08-20\",\"2022-08-21\",\"2022-08-22\",\"2022-08-23\",\"2022-08-24\",\"2022-08-25\",\"2022-08-26\",\"2022-08-27\",\"2022-08-28\",\"2022-08-29\",\"2022-08-30\",\"2022-08-31\",\"2022-09-01\",\"2022-09-02\",\"2022-09-03\",\"2022-09-04\",\"2022-09-05\",\"2022-09-06\",\"2022-09-07\",\"2022-09-08\",\"2022-09-09\",\"2022-09-10\",\"2022-09-11\",\"2022-09-12\",\"2022-09-13\",\"2022-09-14\",\"2022-09-15\",\"2022-09-15\",\"2022-09-15\",\"2022-09-15\",\"2022-09-15\",\"2022-09-15\",\"2022-09-15\",\"2022-09-15\",\"2022-09-16\",\"2022-09-17\",\"2022-09-18\",\"2022-09-19\",\"2022-09-20\",\"2022-09-21\",\"2022-09-22\",\"2022-09-23\",\"2022-09-24\",\"2022-09-25\",\"2022-09-26\",\"2022-09-27\",\"2022-09-28\",\"2022-09-29\",\"2022-09-30\",\"2022-10-01\",\"2022-10-02\",\"2022-10-03\",\"2022-10-04\",\"2022-10-05\",\"2022-10-06\",\"2022-10-07\",\"2022-10-08\",\"2022-10-09\",\"2022-10-10\",\"2022-10-11\",\"2022-10-12\",\"2022-10-13\",\"2022-10-14\",\"2022-10-15\",\"2022-10-16\",\"2022-10-17\",\"2022-10-18\",\"2022-10-19\",\"2022-10-20\",\"2022-10-21\",\"2022-10-22\",\"2022-10-23\",\"2022-10-24\",\"2022-10-25\",\"2022-10-26\",\"2022-10-27\",\"2022-10-28\",\"2022-10-29\",\"2022-10-30\",\"2022-10-31\",\"2022-11-01\",\"2022-11-02\",\"2022-11-03\",\"2022-11-04\",\"2022-11-05\",\"2022-11-06\",\"2022-11-07\",\"2022-11-08\",\"2022-11-09\",\"2022-11-10\",\"2022-11-11\",\"2022-11-12\",\"2022-11-13\",\"2022-11-14\",\"2022-11-15\",\"2022-11-16\",\"2022-11-17\",\"2022-11-18\",\"2022-11-19\"],\"y\":[0.337985,0.3101749999999999,0.410504,0.3717029999999998,0.3474320000000001,0.3910120000000001,0.365634,0.387766,0.4244639999999999,0.0097989999999999,0.3889459999999999,0.298343,0.227343,0.3248220000000001,0.391599,0.5058110000000001,0.282071,0.3645849999999999,0.345691,0.3802550000000001,0.3376819999999999,0.322097,0.4800269999999996,0.2557749999999999,0.3585639999999998,0.4697920000000002,0.3448319999999998,0.3528699999999999,0.3396429999999998,0.303421,0.4170330000000001,0.24533,0.3086270000000001,0.343003,0.3176509999999999,0.354169,0.4282070000000001,0.3533940000000002,0.246708,0.3252099999999999,0.074292,0.3119629999999998,0.215311,0.3753220000000001,0.33053,0.3341349999999999,0.3994340000000001,0.3548199999999999,0.3101120000000001,0.4082730000000002,0.3346329999999999,0.3195299999999998,0.039567,0.3642659999999998,0.339775,0.356772,0.0731999999999999,0.446308,0.3250929999999999,0.486079,0.4990100000000001,0.5082339999999999,0.337768,0.3561840000000001,0.3870750000000002,0.3564679999999997,0.359179,0.340706,0.3609,0.391518,0.36146,0.2515419999999999,0.345377,0.8223970000000028,0.3314880000000001,0.3073329999999999,0.284076,0.2395569999999999,0.3357840000000001,0.3627999999999998,0.4138399999999999,0.32445,0.3715760000000001,0.3087249999999999,0.426027,0.3785029999999999,0.3168689999999998,0.3437739999999999,0.347077,0.322815,0.381937,0.372373,0.3339250000000001,-0.2420550000000002,0.358563,0.3662760000000001,0.4692279999999998,0.348308,0.419452,0.3947679999999998,0.4065930000000003,0.30889,0.3420069999999999,0.3944169999999999,0.37977,0.3127229999999998,0.7427440000000002,0.2981080000000001,0.3412489999999998,0.3495129999999998,0.3471359999999998,0.3482880000000001,0.3642140000000002,0.3169670000000001,0.3190489999999997,0.2547109999999999,0.3440089999999997,0.3591859999999999,0.4187689999999999,0.329567,0.3026469999999998,0.2674839999999998,0.348853,0.34294334214798883,0.30799555146448865,0.41225998556832194,0.34457882719486077,0.35202809121301476,0.40182978076680814,0.3580365583836807,0.40201490111183374,0.43349889234452516,0.024471131587718083,0.38654405493645727,0.3062468191617474,0.22762142031296334,0.3316331082826918,0.388611655862359,0.5152077726370685,0.26705445745030254,0.3671215420363378,0.3398665857341735,0.38204035563016875,0.3347593055639112,0.30861798575703897,0.46911166867181103,0.25700555502126493,0.33995536346845107,0.45862471481542605,0.34659114682240755,0.35309574262557375,0.35007001217077016,0.30290828057999925,0.4092489845623036,0.2628482364335548,0.3152506634586455,0.3388413620798655,0.31068695619210907,0.358850702245821,0.43493060361987285,0.3693248341377955,0.25472667489082074,0.3180532433060253,0.07385302780715972,0.3146740456464952,0.2103980472262523,0.39037305526136845,0.3159752447294336,0.3517531689339472,0.4031291402299855,0.3439291518978097,0.3110126254948014,0.4163578935513816,0.32557529913151734,0.3200654958495955,0.035693255551172136,0.37558369359770033,0.3243751321750766,0.3719358090604717,0.07502421367252737,0.4499344471351382,0.33175606024121945,0.49758471593858655,0.5169243226862524,0.49974581417918496,0.49974581417918496,0.2525475538985971,0.49974581417918496,0.2525475538985971,0.49974581417918496,0.2525475538985971,0.49974581417918496,0.2525475538985971,0.49974581417918496,0.2525475538985971,0.49974581417918496,0.2525475538985971,0.2525475538985971,0.2525475538985971,0.49974581417918496,0.3318225658379734,0.37388185640269056,0.3678715126024245,0.4170064325881637,0.30979778760315546,0.5009131019268668,-0.24600138145922346,0.339361695830465,0.39576316692448116,0.34999074610014574,0.4415947669825911,0.3684002553844522,0.2919988006147354,0.21131555736105367,0.32996233700726163,0.36897272716047896,0.32218128622559644,0.31059751497539806,0.2982531056092175,0.33121488552994627,0.3233358035706568,0.35440509716526747,0.3367562001335662,0.30003926392025354,0.3657662714275078,0.3306860422236478,0.24034447534961073,0.2377304888104136,0.2618723788788066,0.44616339236601604,0.40508974378646206,0.26435272044265196,0.426499129116829,0.48278173742414293,0.3455704939668337,0.3352627201905769,0.3655297716597135,0.3325996371840708,0.33782345114315043,0.3832629863765471,0.003383604028425086,0.3221968999111664,0.40710190007924746,0.3551056084857354,0.3048318430738085,0.3951465933584842,0.3556854775547173,0.09744067351141047,0.3320883186963893,0.36223759103362874,0.42378905937030764,0.3797435368116919,0.3849700642200676,0.3583688405355541,0.39115691898198374,0.35038120306046877,0.3902482637298659,0.3815916287965865,0.8144463684458539,0.2874838683484311,0.31476032117429087,0.30029320284828276,0.3065308997720903,0.09504681570855239,0.4667944940396463,0.38757883846043517,0.3468857675057629,0.3510569825138923,0.40720137855640104,0.27385697512948115,0.3640131299904554,0.3379652337160386,0.3379652337160386,0.3379652337160386,0.3379652337160386,0.3379652337160386,0.3379652337160386,0.3379652337160386,0.3379652337160386,0.3621123786619745,0.3872586517743979,0.3530575839171576,0.33742550876266975,0.5051996341575666,0.40841997670489477,0.30468077566772156,0.32412633060439094,0.3487254408214361,0.3321031925357376,0.3740555547653538,0.29990131559498884,0.04956246958529769,0.46241017748070523,0.3749561284010011,0.4908160163618386,0.3037961447026625,0.3441636249996455,0.3276850642382202,0.3879804605296822,0.3441017714800308,0.377393838106187,0.3519918344545539,0.33564824736584786,0.31854240768043435,0.37817987123519814,0.24703207426356533,0.34216455835983667,0.36560138912925455,0.40569165612242486,0.33315381925449516,0.3307283747252471,0.34877507159872956,0.3087877752166508,0.328949541631402,0.34104422860152017,0.2619335161619784,0.7415765282160435,0.4114783806467927,0.34517516155134326,0.399707426095234,0.36051408772629384,0.34192985083644656,0.2401219444487001,0.3113342333253077,0.35177811961237504,0.34512907116298525,0.514751407807423,0.39803507655929643,0.4218126539727801,0.0,0.0,0.0,0.0,0.0,0.0,0.0,0.0,0.0,0.0,0.0,0.0,0.0,0.0,0.0],\"type\":\"scatter\"}],                        {\"template\":{\"data\":{\"histogram2dcontour\":[{\"type\":\"histogram2dcontour\",\"colorbar\":{\"outlinewidth\":0,\"ticks\":\"\"},\"colorscale\":[[0.0,\"#0d0887\"],[0.1111111111111111,\"#46039f\"],[0.2222222222222222,\"#7201a8\"],[0.3333333333333333,\"#9c179e\"],[0.4444444444444444,\"#bd3786\"],[0.5555555555555556,\"#d8576b\"],[0.6666666666666666,\"#ed7953\"],[0.7777777777777778,\"#fb9f3a\"],[0.8888888888888888,\"#fdca26\"],[1.0,\"#f0f921\"]]}],\"choropleth\":[{\"type\":\"choropleth\",\"colorbar\":{\"outlinewidth\":0,\"ticks\":\"\"}}],\"histogram2d\":[{\"type\":\"histogram2d\",\"colorbar\":{\"outlinewidth\":0,\"ticks\":\"\"},\"colorscale\":[[0.0,\"#0d0887\"],[0.1111111111111111,\"#46039f\"],[0.2222222222222222,\"#7201a8\"],[0.3333333333333333,\"#9c179e\"],[0.4444444444444444,\"#bd3786\"],[0.5555555555555556,\"#d8576b\"],[0.6666666666666666,\"#ed7953\"],[0.7777777777777778,\"#fb9f3a\"],[0.8888888888888888,\"#fdca26\"],[1.0,\"#f0f921\"]]}],\"heatmap\":[{\"type\":\"heatmap\",\"colorbar\":{\"outlinewidth\":0,\"ticks\":\"\"},\"colorscale\":[[0.0,\"#0d0887\"],[0.1111111111111111,\"#46039f\"],[0.2222222222222222,\"#7201a8\"],[0.3333333333333333,\"#9c179e\"],[0.4444444444444444,\"#bd3786\"],[0.5555555555555556,\"#d8576b\"],[0.6666666666666666,\"#ed7953\"],[0.7777777777777778,\"#fb9f3a\"],[0.8888888888888888,\"#fdca26\"],[1.0,\"#f0f921\"]]}],\"heatmapgl\":[{\"type\":\"heatmapgl\",\"colorbar\":{\"outlinewidth\":0,\"ticks\":\"\"},\"colorscale\":[[0.0,\"#0d0887\"],[0.1111111111111111,\"#46039f\"],[0.2222222222222222,\"#7201a8\"],[0.3333333333333333,\"#9c179e\"],[0.4444444444444444,\"#bd3786\"],[0.5555555555555556,\"#d8576b\"],[0.6666666666666666,\"#ed7953\"],[0.7777777777777778,\"#fb9f3a\"],[0.8888888888888888,\"#fdca26\"],[1.0,\"#f0f921\"]]}],\"contourcarpet\":[{\"type\":\"contourcarpet\",\"colorbar\":{\"outlinewidth\":0,\"ticks\":\"\"}}],\"contour\":[{\"type\":\"contour\",\"colorbar\":{\"outlinewidth\":0,\"ticks\":\"\"},\"colorscale\":[[0.0,\"#0d0887\"],[0.1111111111111111,\"#46039f\"],[0.2222222222222222,\"#7201a8\"],[0.3333333333333333,\"#9c179e\"],[0.4444444444444444,\"#bd3786\"],[0.5555555555555556,\"#d8576b\"],[0.6666666666666666,\"#ed7953\"],[0.7777777777777778,\"#fb9f3a\"],[0.8888888888888888,\"#fdca26\"],[1.0,\"#f0f921\"]]}],\"surface\":[{\"type\":\"surface\",\"colorbar\":{\"outlinewidth\":0,\"ticks\":\"\"},\"colorscale\":[[0.0,\"#0d0887\"],[0.1111111111111111,\"#46039f\"],[0.2222222222222222,\"#7201a8\"],[0.3333333333333333,\"#9c179e\"],[0.4444444444444444,\"#bd3786\"],[0.5555555555555556,\"#d8576b\"],[0.6666666666666666,\"#ed7953\"],[0.7777777777777778,\"#fb9f3a\"],[0.8888888888888888,\"#fdca26\"],[1.0,\"#f0f921\"]]}],\"mesh3d\":[{\"type\":\"mesh3d\",\"colorbar\":{\"outlinewidth\":0,\"ticks\":\"\"}}],\"scatter\":[{\"fillpattern\":{\"fillmode\":\"overlay\",\"size\":10,\"solidity\":0.2},\"type\":\"scatter\"}],\"parcoords\":[{\"type\":\"parcoords\",\"line\":{\"colorbar\":{\"outlinewidth\":0,\"ticks\":\"\"}}}],\"scatterpolargl\":[{\"type\":\"scatterpolargl\",\"marker\":{\"colorbar\":{\"outlinewidth\":0,\"ticks\":\"\"}}}],\"bar\":[{\"error_x\":{\"color\":\"#2a3f5f\"},\"error_y\":{\"color\":\"#2a3f5f\"},\"marker\":{\"line\":{\"color\":\"#E5ECF6\",\"width\":0.5},\"pattern\":{\"fillmode\":\"overlay\",\"size\":10,\"solidity\":0.2}},\"type\":\"bar\"}],\"scattergeo\":[{\"type\":\"scattergeo\",\"marker\":{\"colorbar\":{\"outlinewidth\":0,\"ticks\":\"\"}}}],\"scatterpolar\":[{\"type\":\"scatterpolar\",\"marker\":{\"colorbar\":{\"outlinewidth\":0,\"ticks\":\"\"}}}],\"histogram\":[{\"marker\":{\"pattern\":{\"fillmode\":\"overlay\",\"size\":10,\"solidity\":0.2}},\"type\":\"histogram\"}],\"scattergl\":[{\"type\":\"scattergl\",\"marker\":{\"colorbar\":{\"outlinewidth\":0,\"ticks\":\"\"}}}],\"scatter3d\":[{\"type\":\"scatter3d\",\"line\":{\"colorbar\":{\"outlinewidth\":0,\"ticks\":\"\"}},\"marker\":{\"colorbar\":{\"outlinewidth\":0,\"ticks\":\"\"}}}],\"scattermapbox\":[{\"type\":\"scattermapbox\",\"marker\":{\"colorbar\":{\"outlinewidth\":0,\"ticks\":\"\"}}}],\"scatterternary\":[{\"type\":\"scatterternary\",\"marker\":{\"colorbar\":{\"outlinewidth\":0,\"ticks\":\"\"}}}],\"scattercarpet\":[{\"type\":\"scattercarpet\",\"marker\":{\"colorbar\":{\"outlinewidth\":0,\"ticks\":\"\"}}}],\"carpet\":[{\"aaxis\":{\"endlinecolor\":\"#2a3f5f\",\"gridcolor\":\"white\",\"linecolor\":\"white\",\"minorgridcolor\":\"white\",\"startlinecolor\":\"#2a3f5f\"},\"baxis\":{\"endlinecolor\":\"#2a3f5f\",\"gridcolor\":\"white\",\"linecolor\":\"white\",\"minorgridcolor\":\"white\",\"startlinecolor\":\"#2a3f5f\"},\"type\":\"carpet\"}],\"table\":[{\"cells\":{\"fill\":{\"color\":\"#EBF0F8\"},\"line\":{\"color\":\"white\"}},\"header\":{\"fill\":{\"color\":\"#C8D4E3\"},\"line\":{\"color\":\"white\"}},\"type\":\"table\"}],\"barpolar\":[{\"marker\":{\"line\":{\"color\":\"#E5ECF6\",\"width\":0.5},\"pattern\":{\"fillmode\":\"overlay\",\"size\":10,\"solidity\":0.2}},\"type\":\"barpolar\"}],\"pie\":[{\"automargin\":true,\"type\":\"pie\"}]},\"layout\":{\"autotypenumbers\":\"strict\",\"colorway\":[\"#636efa\",\"#EF553B\",\"#00cc96\",\"#ab63fa\",\"#FFA15A\",\"#19d3f3\",\"#FF6692\",\"#B6E880\",\"#FF97FF\",\"#FECB52\"],\"font\":{\"color\":\"#2a3f5f\"},\"hovermode\":\"closest\",\"hoverlabel\":{\"align\":\"left\"},\"paper_bgcolor\":\"white\",\"plot_bgcolor\":\"#E5ECF6\",\"polar\":{\"bgcolor\":\"#E5ECF6\",\"angularaxis\":{\"gridcolor\":\"white\",\"linecolor\":\"white\",\"ticks\":\"\"},\"radialaxis\":{\"gridcolor\":\"white\",\"linecolor\":\"white\",\"ticks\":\"\"}},\"ternary\":{\"bgcolor\":\"#E5ECF6\",\"aaxis\":{\"gridcolor\":\"white\",\"linecolor\":\"white\",\"ticks\":\"\"},\"baxis\":{\"gridcolor\":\"white\",\"linecolor\":\"white\",\"ticks\":\"\"},\"caxis\":{\"gridcolor\":\"white\",\"linecolor\":\"white\",\"ticks\":\"\"}},\"coloraxis\":{\"colorbar\":{\"outlinewidth\":0,\"ticks\":\"\"}},\"colorscale\":{\"sequential\":[[0.0,\"#0d0887\"],[0.1111111111111111,\"#46039f\"],[0.2222222222222222,\"#7201a8\"],[0.3333333333333333,\"#9c179e\"],[0.4444444444444444,\"#bd3786\"],[0.5555555555555556,\"#d8576b\"],[0.6666666666666666,\"#ed7953\"],[0.7777777777777778,\"#fb9f3a\"],[0.8888888888888888,\"#fdca26\"],[1.0,\"#f0f921\"]],\"sequentialminus\":[[0.0,\"#0d0887\"],[0.1111111111111111,\"#46039f\"],[0.2222222222222222,\"#7201a8\"],[0.3333333333333333,\"#9c179e\"],[0.4444444444444444,\"#bd3786\"],[0.5555555555555556,\"#d8576b\"],[0.6666666666666666,\"#ed7953\"],[0.7777777777777778,\"#fb9f3a\"],[0.8888888888888888,\"#fdca26\"],[1.0,\"#f0f921\"]],\"diverging\":[[0,\"#8e0152\"],[0.1,\"#c51b7d\"],[0.2,\"#de77ae\"],[0.3,\"#f1b6da\"],[0.4,\"#fde0ef\"],[0.5,\"#f7f7f7\"],[0.6,\"#e6f5d0\"],[0.7,\"#b8e186\"],[0.8,\"#7fbc41\"],[0.9,\"#4d9221\"],[1,\"#276419\"]]},\"xaxis\":{\"gridcolor\":\"white\",\"linecolor\":\"white\",\"ticks\":\"\",\"title\":{\"standoff\":15},\"zerolinecolor\":\"white\",\"automargin\":true,\"zerolinewidth\":2},\"yaxis\":{\"gridcolor\":\"white\",\"linecolor\":\"white\",\"ticks\":\"\",\"title\":{\"standoff\":15},\"zerolinecolor\":\"white\",\"automargin\":true,\"zerolinewidth\":2},\"scene\":{\"xaxis\":{\"backgroundcolor\":\"#E5ECF6\",\"gridcolor\":\"white\",\"linecolor\":\"white\",\"showbackground\":true,\"ticks\":\"\",\"zerolinecolor\":\"white\",\"gridwidth\":2},\"yaxis\":{\"backgroundcolor\":\"#E5ECF6\",\"gridcolor\":\"white\",\"linecolor\":\"white\",\"showbackground\":true,\"ticks\":\"\",\"zerolinecolor\":\"white\",\"gridwidth\":2},\"zaxis\":{\"backgroundcolor\":\"#E5ECF6\",\"gridcolor\":\"white\",\"linecolor\":\"white\",\"showbackground\":true,\"ticks\":\"\",\"zerolinecolor\":\"white\",\"gridwidth\":2}},\"shapedefaults\":{\"line\":{\"color\":\"#2a3f5f\"}},\"annotationdefaults\":{\"arrowcolor\":\"#2a3f5f\",\"arrowhead\":0,\"arrowwidth\":1},\"geo\":{\"bgcolor\":\"white\",\"landcolor\":\"#E5ECF6\",\"subunitcolor\":\"white\",\"showland\":true,\"showlakes\":true,\"lakecolor\":\"white\"},\"title\":{\"x\":0.05},\"mapbox\":{\"style\":\"light\"}}},\"title\":{\"text\":\"Sample data for instance 8144675344174665202\"}},                        {\"responsive\": true}                    ).then(function(){\n",
       "                            \n",
       "var gd = document.getElementById('b478e413-5fcc-4b0a-a372-253aa5b26a52');\n",
       "var x = new MutationObserver(function (mutations, observer) {{\n",
       "        var display = window.getComputedStyle(gd).display;\n",
       "        if (!display || display === 'none') {{\n",
       "            console.log([gd, 'removed!']);\n",
       "            Plotly.purge(gd);\n",
       "            observer.disconnect();\n",
       "        }}\n",
       "}});\n",
       "\n",
       "// Listen for the removal of the full notebook cells\n",
       "var notebookContainer = gd.closest('#notebook-container');\n",
       "if (notebookContainer) {{\n",
       "    x.observe(notebookContainer, {childList: true});\n",
       "}}\n",
       "\n",
       "// Listen for the clearing of the current output cell\n",
       "var outputEl = gd.closest('.output');\n",
       "if (outputEl) {{\n",
       "    x.observe(outputEl, {childList: true});\n",
       "}}\n",
       "\n",
       "                        })                };                });            </script>        </div>"
      ]
     },
     "metadata": {},
     "output_type": "display_data"
    }
   ],
   "source": [
    "sample_instance = '8144675344174665202'\n",
    "df_final_i = df_final[df_final['instanceId'] == sample_instance].copy()\n",
    "\n",
    "fig = go.Figure()\n",
    "fig.add_trace(go.Scatter(x=df_final_i.datetime, y=df_final_i.costInUsd,\n",
    "                    mode='lines',\n",
    "                    name='costInUsd'))\n",
    "# fig.add_trace(go.Scatter(x=df_final_i.datetime, y=df_final_i.cpuUtilization,\n",
    "#                     mode='lines',\n",
    "#                     name='cpuUtilization'))\n",
    "fig.update_layout(title=f'Sample data for instance {sample_instance}')\n",
    "fig.show()"
   ]
  },
  {
   "cell_type": "code",
   "execution_count": 220,
   "id": "2a32f24e",
   "metadata": {},
   "outputs": [
    {
     "data": {
      "text/html": [
       "<div>\n",
       "<style scoped>\n",
       "    .dataframe tbody tr th:only-of-type {\n",
       "        vertical-align: middle;\n",
       "    }\n",
       "\n",
       "    .dataframe tbody tr th {\n",
       "        vertical-align: top;\n",
       "    }\n",
       "\n",
       "    .dataframe thead th {\n",
       "        text-align: right;\n",
       "    }\n",
       "</style>\n",
       "<table border=\"1\" class=\"dataframe\">\n",
       "  <thead>\n",
       "    <tr style=\"text-align: right;\">\n",
       "      <th></th>\n",
       "      <th>datetime</th>\n",
       "      <th>cpuUtilization</th>\n",
       "      <th>networkIn</th>\n",
       "      <th>networkOut</th>\n",
       "      <th>vCPUs</th>\n",
       "      <th>memory_gb</th>\n",
       "      <th>bandwidth_gbps</th>\n",
       "      <th>costInUsd</th>\n",
       "      <th>instanceId</th>\n",
       "    </tr>\n",
       "  </thead>\n",
       "  <tbody>\n",
       "    <tr>\n",
       "      <th>0</th>\n",
       "      <td>2022-01-02</td>\n",
       "      <td>0.038884</td>\n",
       "      <td>60569.117083</td>\n",
       "      <td>92.387991</td>\n",
       "      <td>1.0</td>\n",
       "      <td>0.6</td>\n",
       "      <td>1.0</td>\n",
       "      <td>0.337985</td>\n",
       "      <td>8144675344174665202</td>\n",
       "    </tr>\n",
       "    <tr>\n",
       "      <th>1</th>\n",
       "      <td>2022-01-03</td>\n",
       "      <td>0.029275</td>\n",
       "      <td>15015.289583</td>\n",
       "      <td>99.502778</td>\n",
       "      <td>1.0</td>\n",
       "      <td>0.6</td>\n",
       "      <td>1.0</td>\n",
       "      <td>0.310175</td>\n",
       "      <td>8144675344174665202</td>\n",
       "    </tr>\n",
       "    <tr>\n",
       "      <th>2</th>\n",
       "      <td>2022-01-04</td>\n",
       "      <td>0.025629</td>\n",
       "      <td>31372.985417</td>\n",
       "      <td>148.977083</td>\n",
       "      <td>1.0</td>\n",
       "      <td>0.6</td>\n",
       "      <td>1.0</td>\n",
       "      <td>0.410504</td>\n",
       "      <td>8144675344174665202</td>\n",
       "    </tr>\n",
       "    <tr>\n",
       "      <th>3</th>\n",
       "      <td>2022-01-05</td>\n",
       "      <td>0.017950</td>\n",
       "      <td>14180.461111</td>\n",
       "      <td>201.702778</td>\n",
       "      <td>1.0</td>\n",
       "      <td>0.6</td>\n",
       "      <td>1.0</td>\n",
       "      <td>0.371703</td>\n",
       "      <td>8144675344174665202</td>\n",
       "    </tr>\n",
       "    <tr>\n",
       "      <th>4</th>\n",
       "      <td>2022-01-06</td>\n",
       "      <td>0.016799</td>\n",
       "      <td>25287.998611</td>\n",
       "      <td>117.104167</td>\n",
       "      <td>1.0</td>\n",
       "      <td>0.6</td>\n",
       "      <td>1.0</td>\n",
       "      <td>0.347432</td>\n",
       "      <td>8144675344174665202</td>\n",
       "    </tr>\n",
       "    <tr>\n",
       "      <th>...</th>\n",
       "      <td>...</td>\n",
       "      <td>...</td>\n",
       "      <td>...</td>\n",
       "      <td>...</td>\n",
       "      <td>...</td>\n",
       "      <td>...</td>\n",
       "      <td>...</td>\n",
       "      <td>...</td>\n",
       "      <td>...</td>\n",
       "    </tr>\n",
       "    <tr>\n",
       "      <th>339</th>\n",
       "      <td>2022-11-15</td>\n",
       "      <td>0.017797</td>\n",
       "      <td>24170.724459</td>\n",
       "      <td>137.008416</td>\n",
       "      <td>0.0</td>\n",
       "      <td>0.0</td>\n",
       "      <td>0.0</td>\n",
       "      <td>0.000000</td>\n",
       "      <td>8144675344174665202</td>\n",
       "    </tr>\n",
       "    <tr>\n",
       "      <th>340</th>\n",
       "      <td>2022-11-16</td>\n",
       "      <td>0.000000</td>\n",
       "      <td>45816.089695</td>\n",
       "      <td>117.225102</td>\n",
       "      <td>0.0</td>\n",
       "      <td>0.0</td>\n",
       "      <td>0.0</td>\n",
       "      <td>0.000000</td>\n",
       "      <td>8144675344174665202</td>\n",
       "    </tr>\n",
       "    <tr>\n",
       "      <th>341</th>\n",
       "      <td>2022-11-17</td>\n",
       "      <td>0.000000</td>\n",
       "      <td>0.000000</td>\n",
       "      <td>203.655682</td>\n",
       "      <td>0.0</td>\n",
       "      <td>0.0</td>\n",
       "      <td>0.0</td>\n",
       "      <td>0.000000</td>\n",
       "      <td>8144675344174665202</td>\n",
       "    </tr>\n",
       "    <tr>\n",
       "      <th>342</th>\n",
       "      <td>2022-11-18</td>\n",
       "      <td>0.000000</td>\n",
       "      <td>0.000000</td>\n",
       "      <td>145.969112</td>\n",
       "      <td>0.0</td>\n",
       "      <td>0.0</td>\n",
       "      <td>0.0</td>\n",
       "      <td>0.000000</td>\n",
       "      <td>8144675344174665202</td>\n",
       "    </tr>\n",
       "    <tr>\n",
       "      <th>343</th>\n",
       "      <td>2022-11-19</td>\n",
       "      <td>0.000000</td>\n",
       "      <td>0.000000</td>\n",
       "      <td>98.968359</td>\n",
       "      <td>0.0</td>\n",
       "      <td>0.0</td>\n",
       "      <td>0.0</td>\n",
       "      <td>0.000000</td>\n",
       "      <td>8144675344174665202</td>\n",
       "    </tr>\n",
       "  </tbody>\n",
       "</table>\n",
       "<p>344 rows × 9 columns</p>\n",
       "</div>"
      ],
      "text/plain": [
       "       datetime  cpuUtilization     networkIn  networkOut  vCPUs  memory_gb  \\\n",
       "0    2022-01-02        0.038884  60569.117083   92.387991    1.0        0.6   \n",
       "1    2022-01-03        0.029275  15015.289583   99.502778    1.0        0.6   \n",
       "2    2022-01-04        0.025629  31372.985417  148.977083    1.0        0.6   \n",
       "3    2022-01-05        0.017950  14180.461111  201.702778    1.0        0.6   \n",
       "4    2022-01-06        0.016799  25287.998611  117.104167    1.0        0.6   \n",
       "..          ...             ...           ...         ...    ...        ...   \n",
       "339  2022-11-15        0.017797  24170.724459  137.008416    0.0        0.0   \n",
       "340  2022-11-16        0.000000  45816.089695  117.225102    0.0        0.0   \n",
       "341  2022-11-17        0.000000      0.000000  203.655682    0.0        0.0   \n",
       "342  2022-11-18        0.000000      0.000000  145.969112    0.0        0.0   \n",
       "343  2022-11-19        0.000000      0.000000   98.968359    0.0        0.0   \n",
       "\n",
       "     bandwidth_gbps  costInUsd           instanceId  \n",
       "0               1.0   0.337985  8144675344174665202  \n",
       "1               1.0   0.310175  8144675344174665202  \n",
       "2               1.0   0.410504  8144675344174665202  \n",
       "3               1.0   0.371703  8144675344174665202  \n",
       "4               1.0   0.347432  8144675344174665202  \n",
       "..              ...        ...                  ...  \n",
       "339             0.0   0.000000  8144675344174665202  \n",
       "340             0.0   0.000000  8144675344174665202  \n",
       "341             0.0   0.000000  8144675344174665202  \n",
       "342             0.0   0.000000  8144675344174665202  \n",
       "343             0.0   0.000000  8144675344174665202  \n",
       "\n",
       "[344 rows x 9 columns]"
      ]
     },
     "execution_count": 220,
     "metadata": {},
     "output_type": "execute_result"
    }
   ],
   "source": [
    "df_final_i"
   ]
  },
  {
   "cell_type": "code",
   "execution_count": null,
   "id": "fb11e5d9",
   "metadata": {},
   "outputs": [],
   "source": []
  }
 ],
 "metadata": {
  "kernelspec": {
   "display_name": "venv",
   "language": "python",
   "name": "venv"
  },
  "language_info": {
   "codemirror_mode": {
    "name": "ipython",
    "version": 3
   },
   "file_extension": ".py",
   "mimetype": "text/x-python",
   "name": "python",
   "nbconvert_exporter": "python",
   "pygments_lexer": "ipython3",
   "version": "3.8.10"
  }
 },
 "nbformat": 4,
 "nbformat_minor": 5
}
