{
 "cells": [
  {
   "cell_type": "code",
   "execution_count": 23,
   "id": "956319b7",
   "metadata": {
    "pycharm": {
     "name": "#%%\n"
    }
   },
   "outputs": [],
   "source": [
    "import json\n",
    "import pandas as pd"
   ]
  },
  {
   "cell_type": "code",
   "execution_count": null,
   "id": "db3e72b6",
   "metadata": {
    "pycharm": {
     "name": "#%%\n"
    }
   },
   "outputs": [],
   "source": [
    "# https://cloud.google.com/compute/docs/general-purpose-machines#n2-high-cpu\n",
    "file = './data/ep_ce_instances.json'\n",
    "f = open(file, 'r')\n",
    "data = json.load(f)['data']\n",
    "# TODO: Dynamically fetch this data\n",
    "machine_types = {\n",
    "    \"f1-micro\": {\n",
    "        'vCPUs': 1,\n",
    "        \"memory_gb\": 0.6,\n",
    "        \"bandwidth_gbps\": 1\n",
    "    },\n",
    "    \"g1-small\": {\n",
    "        'vCPUs': 1,\n",
    "        \"memory_gb\": 1.7,\n",
    "        \"bandwidth_gbps\": 1\n",
    "    },\n",
    "    \"n2-highcpu-2\": {\n",
    "        'vCPUs': 2,\n",
    "        \"memory_gb\": 2,\n",
    "        \"bandwidth_gbps\": 10\n",
    "    },\n",
    "    \"e2-micro\": {\n",
    "        'vCPUs': 2,\n",
    "        \"memory_gb\": 1,\n",
    "        \"bandwidth_gbps\": 1\n",
    "    },\n",
    "    \"e2-small\": {\n",
    "        'vCPUs': 2,\n",
    "        \"memory_gb\": 2,\n",
    "        \"bandwidth_gbps\": 1\n",
    "    },\n",
    "}\n",
    "disk_type_enum = {\n",
    "    'PERSISTENT': 0\n",
    "}"
   ]
  },
  {
   "cell_type": "code",
   "execution_count": null,
   "id": "2d638196",
   "metadata": {
    "pycharm": {
     "name": "#%%\n"
    }
   },
   "outputs": [],
   "source": [
    "len(data)"
   ]
  },
  {
   "cell_type": "code",
   "execution_count": null,
   "id": "563fb1e8",
   "metadata": {
    "pycharm": {
     "name": "#%%\n"
    }
   },
   "outputs": [],
   "source": [
    "gcp_data = list(filter(lambda x: x.get('provider') == 'GCP', data))"
   ]
  },
  {
   "cell_type": "code",
   "execution_count": null,
   "id": "4133f95b",
   "metadata": {
    "pycharm": {
     "name": "#%%\n"
    }
   },
   "outputs": [],
   "source": [
    "len(gcp_data)"
   ]
  },
  {
   "cell_type": "code",
   "execution_count": null,
   "id": "dbac68db",
   "metadata": {
    "pycharm": {
     "name": "#%%\n"
    }
   },
   "outputs": [],
   "source": [
    "ep_gcp_map = {}\n",
    "for i in range(0, len(gcp_data)):\n",
    "    variant = gcp_data[i]['variant']\n",
    "    if variant.get('id'):\n",
    "        instance_type = variant[\"machineType\"].split('/')[-1]\n",
    "        ep_gcp_map[variant['id']] = {\n",
    "            \"id\": variant['id'],\n",
    "            \"disk_type\": list(map(lambda x: x.get('type'), variant['disks']))[0],\n",
    "            \"instance_type\": instance_type,\n",
    "            \"region\": variant.get(\"region\"),\n",
    "            \"vCPUs\": machine_types[instance_type][\"vCPUs\"],\n",
    "            \"memory_gb\": machine_types[instance_type][\"memory_gb\"],\n",
    "            \"bandwidth_gbps\": machine_types[instance_type][\"bandwidth_gbps\"]\n",
    "        }"
   ]
  },
  {
   "cell_type": "code",
   "execution_count": null,
   "id": "cd66f4a2",
   "metadata": {
    "pycharm": {
     "name": "#%%\n"
    }
   },
   "outputs": [],
   "source": [
    "ep_gcp_map"
   ]
  },
  {
   "cell_type": "code",
   "execution_count": null,
   "id": "44a5e5af",
   "metadata": {
    "pycharm": {
     "name": "#%%\n"
    }
   },
   "outputs": [],
   "source": [
    "gcp_ce_file = './data/gcp_cost.csv'\n",
    "df_cost = pd.read_csv(gcp_ce_file, header=0, sep=',', dtype =  {\"gcpId\": str})"
   ]
  },
  {
   "cell_type": "code",
   "execution_count": null,
   "id": "2fe7078b",
   "metadata": {
    "pycharm": {
     "name": "#%%\n"
    }
   },
   "outputs": [],
   "source": [
    "df_cost"
   ]
  },
  {
   "cell_type": "code",
   "execution_count": null,
   "id": "40be8f58",
   "metadata": {
    "pycharm": {
     "name": "#%%\n"
    }
   },
   "outputs": [],
   "source": [
    "# df['gcpId'] = df.apply(lambda row: str(ep_gcp_map.get(row.epId)), axis=1)\n",
    "df_new = df_cost\n",
    "def extract_variant(row, name):\n",
    "    record = ep_gcp_map.get(row.gcpId)\n",
    "    if not record:\n",
    "        return ''\n",
    "    return record.get(name)\n",
    "df_new['instance_type'] = df_new.apply(lambda row: extract_variant(row, 'instance_type'), axis=1)\n",
    "df_new['disk'] = df_new.apply(lambda row: extract_variant(row, 'disk_type'), axis=1)\n",
    "df_new['vCPUs'] = df_new.apply(lambda row: extract_variant(row, 'vCPUs'), axis=1)\n",
    "df_new['memory_gb'] = df_new.apply(lambda row: extract_variant(row, 'memory_gb'), axis=1)\n",
    "df_new['bandwidth_gbps'] = df_new.apply(lambda row: extract_variant(row, 'bandwidth_gbps'), axis=1)\n",
    "df_new['instanceId'] = df_new['gcpId']\n",
    "df_new['datetime'] = df_new['date']"
   ]
  },
  {
   "cell_type": "code",
   "execution_count": null,
   "id": "73160a19",
   "metadata": {
    "pycharm": {
     "name": "#%%\n"
    }
   },
   "outputs": [],
   "source": [
    "df_filtered = df_new.loc[df_new['gcpId'] != None]"
   ]
  },
  {
   "cell_type": "code",
   "execution_count": null,
   "id": "dc086250",
   "metadata": {
    "pycharm": {
     "name": "#%%\n"
    }
   },
   "outputs": [],
   "source": [
    "df_filtered[['cost', 'datetime', 'costInUsd', 'instanceId', 'instance_type', 'disk', 'vCPUs', 'memory_gb', 'bandwidth_gbps']].to_csv('./data/gcp_cost_with_instance_info.csv')"
   ]
  },
  {
   "cell_type": "code",
   "execution_count": null,
   "id": "53720469",
   "metadata": {
    "pycharm": {
     "name": "#%%\n"
    }
   },
   "outputs": [],
   "source": []
  }
 ],
 "metadata": {
  "kernelspec": {
   "display_name": "venv",
   "language": "python",
   "name": "venv"
  },
  "language_info": {
   "codemirror_mode": {
    "name": "ipython",
    "version": 3
   },
   "file_extension": ".py",
   "mimetype": "text/x-python",
   "name": "python",
   "nbconvert_exporter": "python",
   "pygments_lexer": "ipython3",
   "version": "3.8.10"
  }
 },
 "nbformat": 4,
 "nbformat_minor": 5
}
