{
 "cells": [
  {
   "cell_type": "code",
   "execution_count": 227,
   "id": "896bdf80",
   "metadata": {},
   "outputs": [],
   "source": [
    "import math\n",
    "from datetime import datetime, timedelta\n",
    "\n",
    "import tsaug\n",
    "from tsaug import TimeWarp, Crop, Quantize, Drift, Reverse\n",
    "from tsaug.visualization import plot\n",
    "\n",
    "import numpy as np\n",
    "import pandas as pd\n",
    "from matplotlib import pyplot as plt\n",
    "import matplotlib.dates as mdates\n",
    "import plotly.graph_objects as go"
   ]
  },
  {
   "cell_type": "code",
   "execution_count": 228,
   "id": "9eadb470",
   "metadata": {},
   "outputs": [],
   "source": [
    "date_format = '%Y-%m-%d 00:00:00+00:00'\n",
    "def date_parser(x):\n",
    "\treturn datetime.strptime(x, date_format)"
   ]
  },
  {
   "cell_type": "code",
   "execution_count": 253,
   "id": "b2e60648",
   "metadata": {},
   "outputs": [],
   "source": [
    "cpu_utilize_file = './data/raw_gcp_cpu_utilization.json'\n",
    "network_in_file = './data/raw_gcp_network_in.json'\n",
    "df_cpu = pd.read_json(cpu_utilize_file, dtype={'instanceId': object})\n",
    "df_network_in = pd.read_json(network_in_file, dtype={'instanceId': object})"
   ]
  },
  {
   "cell_type": "code",
   "execution_count": 257,
   "id": "20ebe59a",
   "metadata": {},
   "outputs": [],
   "source": [
    "### AUGMENTATION HERE\n",
    "def add_noise(Y, X, scale=0.1):\n",
    "    Y_aug_noise, X_aug_noise = tsaug.AddNoise(scale=scale).augment(Y, X)\n",
    "    return Y_aug_noise, X_aug_noise\n",
    "\n",
    "def calculate_number_of_augment_need(start_date, end_date, days_range):\n",
    "    res = math.ceil(((end_date - start_date)/days_range))\n",
    "    return res\n",
    "\n",
    "def augment_metrics(df_metrics, instanceId, historical_date, metricType='cpuUtilization'):\n",
    "    df_metrics_i = df_metrics[df_metrics['instanceId'] == instanceId].copy()\n",
    "    \n",
    "    # days_range: number of days of real data\n",
    "    start_date = df_metrics_i.min(axis=0)['datetime'].date()\n",
    "    end_date = df_metrics_i.max(axis=0)['datetime'].date()\n",
    "    days_range = end_date - start_date + timedelta(days=1)\n",
    "    \n",
    "    X = np.arange(len(df_metrics_i))\n",
    "    X_date = df_metrics_i['datetime'].map(lambda x: int(x.timestamp()*1000)).tolist()\n",
    "    \n",
    "    Y = df_metrics_i['avgValue'].tolist()\n",
    "    Y = np.array(Y)\n",
    "    Y_aug_noise, X_aug_noise = add_noise(Y, X)\n",
    "    \n",
    "\n",
    "    NUM_OF_PERIODS = calculate_number_of_augment_need(historical_date.date(), start_date,days_range)\n",
    "    X_date = df_metrics_i['datetime'].map(lambda x: int(x.timestamp()*1000)).tolist()\n",
    "    X_date_extended1 = pd.date_range(start_date -(days_range) * NUM_OF_PERIODS,start_date,freq='d').map(lambda x: int(x.timestamp()*1000))\n",
    "    \n",
    "    X_date_extended = np.hstack([X_date_extended1, X_date])[1:]\n",
    "    \n",
    "    extended_Y = []\n",
    "    cur_Y = Y\n",
    "    for i in range(0, NUM_OF_PERIODS):\n",
    "        cur_Y, X = add_noise(cur_Y, X)\n",
    "        extended_Y.append(cur_Y)\n",
    "    Y_extended = np.hstack([Y] + extended_Y)\n",
    "    new_df = pd.DataFrame({'datetime': list(map(lambda x: datetime.fromtimestamp(x/1000.0).strftime('%Y-%m-%d'),X_date_extended))})\n",
    "\n",
    "    new_df[metricType] = pd.Series(Y_extended)\n",
    "    new_df = new_df.sort_values('datetime')\n",
    "    return new_df"
   ]
  },
  {
   "cell_type": "code",
   "execution_count": 258,
   "id": "69121597",
   "metadata": {},
   "outputs": [],
   "source": [
    "instanceIds = df_cpu['instanceId'].unique().tolist()"
   ]
  },
  {
   "cell_type": "code",
   "execution_count": 262,
   "id": "36bc811f",
   "metadata": {},
   "outputs": [
    {
     "name": "stdout",
     "output_type": "stream",
     "text": [
      "5218666880235370347\n"
     ]
    }
   ],
   "source": [
    "historical_date = datetime.strptime('2022-01-01', '%Y-%m-%d')\n",
    "\n",
    "df_final = None\n",
    "\n",
    "for instanceId in instanceIds:\n",
    "    try:\n",
    "        df_cpu_i = augment_metrics(df_cpu, instanceId, historical_date, 'cpuUtilization')\n",
    "        df_network_i = augment_metrics(df_network_in, instanceId, historical_date, 'networkIn')\n",
    "        df_new = pd.merge(df_cpu_i, df_network_i, on=['datetime'], how='outer')\n",
    "    #     df_new = df_cpu_i\n",
    "        df_new['instanceId'] = instanceId\n",
    "        if df_final is not None:\n",
    "            df_final = df_final.append(df_new)\n",
    "        else:\n",
    "            df_final = df_new\n",
    "    except:\n",
    "        print(instanceId)"
   ]
  },
  {
   "cell_type": "code",
   "execution_count": 264,
   "id": "10000ba5",
   "metadata": {},
   "outputs": [
    {
     "name": "stdout",
     "output_type": "stream",
     "text": [
      "14047\n"
     ]
    },
    {
     "data": {
      "text/html": [
       "<div>\n",
       "<style scoped>\n",
       "    .dataframe tbody tr th:only-of-type {\n",
       "        vertical-align: middle;\n",
       "    }\n",
       "\n",
       "    .dataframe tbody tr th {\n",
       "        vertical-align: top;\n",
       "    }\n",
       "\n",
       "    .dataframe thead th {\n",
       "        text-align: right;\n",
       "    }\n",
       "</style>\n",
       "<table border=\"1\" class=\"dataframe\">\n",
       "  <thead>\n",
       "    <tr style=\"text-align: right;\">\n",
       "      <th></th>\n",
       "      <th>datetime</th>\n",
       "      <th>cpuUtilization</th>\n",
       "      <th>networkIn</th>\n",
       "      <th>instanceId</th>\n",
       "    </tr>\n",
       "  </thead>\n",
       "  <tbody>\n",
       "    <tr>\n",
       "      <th>0</th>\n",
       "      <td>2021-12-22</td>\n",
       "      <td>0.010492</td>\n",
       "      <td>NaN</td>\n",
       "      <td>2084983531904533635</td>\n",
       "    </tr>\n",
       "    <tr>\n",
       "      <th>1</th>\n",
       "      <td>2021-12-23</td>\n",
       "      <td>0.009063</td>\n",
       "      <td>NaN</td>\n",
       "      <td>2084983531904533635</td>\n",
       "    </tr>\n",
       "    <tr>\n",
       "      <th>2</th>\n",
       "      <td>2021-12-24</td>\n",
       "      <td>0.009381</td>\n",
       "      <td>8798.382353</td>\n",
       "      <td>2084983531904533635</td>\n",
       "    </tr>\n",
       "    <tr>\n",
       "      <th>3</th>\n",
       "      <td>2021-12-25</td>\n",
       "      <td>0.009093</td>\n",
       "      <td>6866.004167</td>\n",
       "      <td>2084983531904533635</td>\n",
       "    </tr>\n",
       "    <tr>\n",
       "      <th>4</th>\n",
       "      <td>2021-12-26</td>\n",
       "      <td>0.009061</td>\n",
       "      <td>7228.202778</td>\n",
       "      <td>2084983531904533635</td>\n",
       "    </tr>\n",
       "    <tr>\n",
       "      <th>...</th>\n",
       "      <td>...</td>\n",
       "      <td>...</td>\n",
       "      <td>...</td>\n",
       "      <td>...</td>\n",
       "    </tr>\n",
       "    <tr>\n",
       "      <th>377</th>\n",
       "      <td>2022-09-06</td>\n",
       "      <td>NaN</td>\n",
       "      <td>-96609.598384</td>\n",
       "      <td>5681595381851713673</td>\n",
       "    </tr>\n",
       "    <tr>\n",
       "      <th>378</th>\n",
       "      <td>2022-09-07</td>\n",
       "      <td>NaN</td>\n",
       "      <td>90133.473567</td>\n",
       "      <td>5681595381851713673</td>\n",
       "    </tr>\n",
       "    <tr>\n",
       "      <th>379</th>\n",
       "      <td>2022-09-16</td>\n",
       "      <td>NaN</td>\n",
       "      <td>NaN</td>\n",
       "      <td>5681595381851713673</td>\n",
       "    </tr>\n",
       "    <tr>\n",
       "      <th>380</th>\n",
       "      <td>2022-09-17</td>\n",
       "      <td>NaN</td>\n",
       "      <td>NaN</td>\n",
       "      <td>5681595381851713673</td>\n",
       "    </tr>\n",
       "    <tr>\n",
       "      <th>381</th>\n",
       "      <td>2022-11-16</td>\n",
       "      <td>NaN</td>\n",
       "      <td>152079.733050</td>\n",
       "      <td>5681595381851713673</td>\n",
       "    </tr>\n",
       "  </tbody>\n",
       "</table>\n",
       "<p>14047 rows × 4 columns</p>\n",
       "</div>"
      ],
      "text/plain": [
       "       datetime  cpuUtilization      networkIn           instanceId\n",
       "0    2021-12-22        0.010492            NaN  2084983531904533635\n",
       "1    2021-12-23        0.009063            NaN  2084983531904533635\n",
       "2    2021-12-24        0.009381    8798.382353  2084983531904533635\n",
       "3    2021-12-25        0.009093    6866.004167  2084983531904533635\n",
       "4    2021-12-26        0.009061    7228.202778  2084983531904533635\n",
       "..          ...             ...            ...                  ...\n",
       "377  2022-09-06             NaN  -96609.598384  5681595381851713673\n",
       "378  2022-09-07             NaN   90133.473567  5681595381851713673\n",
       "379  2022-09-16             NaN            NaN  5681595381851713673\n",
       "380  2022-09-17             NaN            NaN  5681595381851713673\n",
       "381  2022-11-16             NaN  152079.733050  5681595381851713673\n",
       "\n",
       "[14047 rows x 4 columns]"
      ]
     },
     "execution_count": 264,
     "metadata": {},
     "output_type": "execute_result"
    }
   ],
   "source": [
    "print(len(df_final))\n",
    "df_final"
   ]
  },
  {
   "cell_type": "code",
   "execution_count": 265,
   "id": "d1db0bbb",
   "metadata": {},
   "outputs": [],
   "source": [
    "df_final.to_csv('./data/gcp_metrics_augmented.csv', sep=',')"
   ]
  },
  {
   "cell_type": "code",
   "execution_count": null,
   "id": "33ad8eb4",
   "metadata": {},
   "outputs": [],
   "source": []
  },
  {
   "cell_type": "code",
   "execution_count": null,
   "id": "4af395c4",
   "metadata": {},
   "outputs": [],
   "source": []
  }
 ],
 "metadata": {
  "kernelspec": {
   "display_name": "venv",
   "language": "python",
   "name": "venv"
  },
  "language_info": {
   "codemirror_mode": {
    "name": "ipython",
    "version": 3
   },
   "file_extension": ".py",
   "mimetype": "text/x-python",
   "name": "python",
   "nbconvert_exporter": "python",
   "pygments_lexer": "ipython3",
   "version": "3.7.7"
  }
 },
 "nbformat": 4,
 "nbformat_minor": 5
}
