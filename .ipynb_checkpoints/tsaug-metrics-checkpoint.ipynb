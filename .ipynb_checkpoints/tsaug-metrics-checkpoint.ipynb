{
 "cells": [
  {
   "cell_type": "code",
   "execution_count": 162,
   "id": "f120e12e",
   "metadata": {},
   "outputs": [],
   "source": [
    "import math\n",
    "from datetime import datetime, timedelta\n",
    "\n",
    "import tsaug\n",
    "from tsaug import TimeWarp, Crop, Quantize, Drift, Reverse\n",
    "from tsaug.visualization import plot\n",
    "\n",
    "import numpy as np\n",
    "import pandas as pd\n",
    "from matplotlib import pyplot as plt\n",
    "import matplotlib.dates as mdates\n",
    "import plotly.graph_objects as go"
   ]
  },
  {
   "cell_type": "code",
   "execution_count": 18,
   "id": "e9688e56",
   "metadata": {},
   "outputs": [],
   "source": [
    "date_format = '%Y-%m-%d 00:00:00+00:00'\n",
    "def date_parser(x):\n",
    "\treturn datetime.strptime(x, date_format)"
   ]
  },
  {
   "cell_type": "code",
   "execution_count": 111,
   "id": "d704f7bb",
   "metadata": {},
   "outputs": [],
   "source": [
    "cpu_utilize_file = './data/raw_gcp_cpu_utilization.json'\n",
    "df_cpu = pd.read_json(cpu_utilize_file, dtype={'instanceId': object})"
   ]
  },
  {
   "cell_type": "code",
   "execution_count": 185,
   "id": "fa7680ad",
   "metadata": {},
   "outputs": [
    {
     "ename": "SyntaxError",
     "evalue": "invalid syntax (208943695.py, line 7)",
     "output_type": "error",
     "traceback": [
      "\u001b[0;36m  File \u001b[0;32m\"/var/folders/r0/b4vp5j_92_bbhd59nryh344m0000gn/T/ipykernel_51608/208943695.py\"\u001b[0;36m, line \u001b[0;32m7\u001b[0m\n\u001b[0;31m    res = math.ceil(((end_date - start_date)/days_range))\u001b[0m\n\u001b[0m      ^\u001b[0m\n\u001b[0;31mSyntaxError\u001b[0m\u001b[0;31m:\u001b[0m invalid syntax\n"
     ]
    }
   ],
   "source": [
    "### AUGMENTATION HERE\n",
    "def add_noise(Y, X, scale=0.1):\n",
    "    Y_aug_noise, X_aug_noise = tsaug.AddNoise(scale=scale).augment(Y, X)\n",
    "    return Y_aug_noise, X_aug_noise\n",
    "\n",
    "def calculate_number_of_augment_need(start_date, end_date, days_range):\n",
    "    res = math.ceil(((end_date - start_date)/days_range))\n",
    "    return res\n",
    "\n",
    "def augment_metrics(df_metrics, instanceId, historical_date, metricType='cpuUtilization'):\n",
    "    df_metrics_i = df_metrics[df_metrics['instanceId'] == instanceId].copy()\n",
    "    \n",
    "    start_date = df_cpu_i.min(axis=0)['datetime'].date()\n",
    "    end_date = df_cpu_i.max(axis=0)['datetime'].date()\n",
    "    days_range = end_date - start_date + timedelta(days=1)\n",
    "    \n",
    "    X = np.arange(len(df_metrics_i))\n",
    "    X_date = df_metrics_i['datetime'].map(lambda x: int(x.timestamp()*1000)).tolist()\n",
    "    df_new = df_metrics_i\n",
    "    Y = df_metrics_i['avgValue'].tolist()\n",
    "    Y = np.array(Y)\n",
    "    Y_aug_noise, X_aug_noise = add_noise(Y, X)\n",
    "    NUM_OF_PERIODS = calculate_number_of_augment_need(historical_date.date(), start_date,days_range)\n",
    "    X_date = df_metrics_i['datetime'].map(lambda x: int(x.timestamp()*1000)).tolist()\n",
    "    X_date_extended1 = pd.date_range(start_date -(days_range) * NUM_OF_PERIODS,start_date,freq='d').map(lambda x: int(x.timestamp()*1000))\n",
    "    X_date_extended = np.hstack([X_date_extended1, X_date])[1:]\n",
    "    \n",
    "    extended_Y = []\n",
    "    cur_Y = Y\n",
    "    for i in range(0, NUM_OF_PERIODS):\n",
    "        cur_Y, X = add_noise(cur_Y, X)\n",
    "        extended_Y.append(cur_Y)\n",
    "    Y_extended = np.hstack([Y] + extended_Y)\n",
    "    new_df = pd.DataFrame({'datetime': list(map(lambda x: datetime.fromtimestamp(x/1000.0).strftime('%Y-%m-%d'),X_date_extended))})\n",
    "\n",
    "    new_df[metricType] = pd.Series(Y_extended)\n",
    "    new_df = new_df.sort_values('datetime')\n",
    "    return new_df"
   ]
  },
  {
   "cell_type": "code",
   "execution_count": 187,
   "id": "037f6484",
   "metadata": {},
   "outputs": [
    {
     "name": "stdout",
     "output_type": "stream",
     "text": [
      "2022-01-01 2022-09-17\n",
      "15\n",
      "LOOP NEEDS: 15\n"
     ]
    },
    {
     "data": {
      "text/html": [
       "<div>\n",
       "<style scoped>\n",
       "    .dataframe tbody tr th:only-of-type {\n",
       "        vertical-align: middle;\n",
       "    }\n",
       "\n",
       "    .dataframe tbody tr th {\n",
       "        vertical-align: top;\n",
       "    }\n",
       "\n",
       "    .dataframe thead th {\n",
       "        text-align: right;\n",
       "    }\n",
       "</style>\n",
       "<table border=\"1\" class=\"dataframe\">\n",
       "  <thead>\n",
       "    <tr style=\"text-align: right;\">\n",
       "      <th></th>\n",
       "      <th>datetime</th>\n",
       "      <th>cpuUtilization</th>\n",
       "    </tr>\n",
       "  </thead>\n",
       "  <tbody>\n",
       "    <tr>\n",
       "      <th>0</th>\n",
       "      <td>2021-12-22</td>\n",
       "      <td>0.010492</td>\n",
       "    </tr>\n",
       "    <tr>\n",
       "      <th>1</th>\n",
       "      <td>2021-12-23</td>\n",
       "      <td>0.009063</td>\n",
       "    </tr>\n",
       "    <tr>\n",
       "      <th>2</th>\n",
       "      <td>2021-12-24</td>\n",
       "      <td>0.009381</td>\n",
       "    </tr>\n",
       "    <tr>\n",
       "      <th>3</th>\n",
       "      <td>2021-12-25</td>\n",
       "      <td>0.009093</td>\n",
       "    </tr>\n",
       "    <tr>\n",
       "      <th>4</th>\n",
       "      <td>2021-12-26</td>\n",
       "      <td>0.009061</td>\n",
       "    </tr>\n",
       "    <tr>\n",
       "      <th>...</th>\n",
       "      <td>...</td>\n",
       "      <td>...</td>\n",
       "    </tr>\n",
       "    <tr>\n",
       "      <th>274</th>\n",
       "      <td>2022-09-30</td>\n",
       "      <td>NaN</td>\n",
       "    </tr>\n",
       "    <tr>\n",
       "      <th>273</th>\n",
       "      <td>2022-10-01</td>\n",
       "      <td>NaN</td>\n",
       "    </tr>\n",
       "    <tr>\n",
       "      <th>272</th>\n",
       "      <td>2022-10-02</td>\n",
       "      <td>NaN</td>\n",
       "    </tr>\n",
       "    <tr>\n",
       "      <th>271</th>\n",
       "      <td>2022-10-03</td>\n",
       "      <td>0.008977</td>\n",
       "    </tr>\n",
       "    <tr>\n",
       "      <th>270</th>\n",
       "      <td>2022-10-04</td>\n",
       "      <td>0.010992</td>\n",
       "    </tr>\n",
       "  </tbody>\n",
       "</table>\n",
       "<p>287 rows × 2 columns</p>\n",
       "</div>"
      ],
      "text/plain": [
       "       datetime  cpuUtilization\n",
       "0    2021-12-22        0.010492\n",
       "1    2021-12-23        0.009063\n",
       "2    2021-12-24        0.009381\n",
       "3    2021-12-25        0.009093\n",
       "4    2021-12-26        0.009061\n",
       "..          ...             ...\n",
       "274  2022-09-30             NaN\n",
       "273  2022-10-01             NaN\n",
       "272  2022-10-02             NaN\n",
       "271  2022-10-03        0.008977\n",
       "270  2022-10-04        0.010992\n",
       "\n",
       "[287 rows x 2 columns]"
      ]
     },
     "execution_count": 187,
     "metadata": {},
     "output_type": "execute_result"
    }
   ],
   "source": [
    "historical_date = datetime.strptime('2022-01-01', '%Y-%m-%d')\n",
    "df_new = augment_metrics(df_cpu, '2084983531904533635', historical_date, 'cpuUtilization')\n",
    "df_new"
   ]
  },
  {
   "cell_type": "code",
   "execution_count": 183,
   "id": "a48098e6",
   "metadata": {},
   "outputs": [],
   "source": [
    "df_new.to_csv('./data/gcp_metrics_augmented.csv', sep=',')"
   ]
  },
  {
   "cell_type": "code",
   "execution_count": null,
   "id": "b06eb1cc",
   "metadata": {},
   "outputs": [],
   "source": []
  }
 ],
 "metadata": {
  "kernelspec": {
   "display_name": "venv",
   "language": "python",
   "name": "venv"
  },
  "language_info": {
   "codemirror_mode": {
    "name": "ipython",
    "version": 3
   },
   "file_extension": ".py",
   "mimetype": "text/x-python",
   "name": "python",
   "nbconvert_exporter": "python",
   "pygments_lexer": "ipython3",
   "version": "3.7.7"
  }
 },
 "nbformat": 4,
 "nbformat_minor": 5
}
